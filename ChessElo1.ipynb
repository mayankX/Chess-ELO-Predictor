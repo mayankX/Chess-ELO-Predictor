{
  "nbformat": 4,
  "nbformat_minor": 0,
  "metadata": {
    "colab": {
      "name": "ChessElo1.ipynb",
      "provenance": []
    },
    "kernelspec": {
      "name": "python3",
      "display_name": "Python 3"
    }
  },
  "cells": [
    {
      "cell_type": "code",
      "metadata": {
        "id": "8Uph39MUA58j",
        "colab_type": "code",
        "colab": {}
      },
      "source": [
        "import chess.pgn\n",
        "import csv"
      ],
      "execution_count": 0,
      "outputs": []
    },
    {
      "cell_type": "code",
      "metadata": {
        "id": "baABjJmYBtn4",
        "colab_type": "code",
        "colab": {}
      },
      "source": [
        "import pandas as pd\n",
        "from sklearn.model_selection import train_test_split"
      ],
      "execution_count": 0,
      "outputs": []
    },
    {
      "cell_type": "code",
      "metadata": {
        "id": "-Ds9lH4wB3OD",
        "colab_type": "code",
        "colab": {
          "base_uri": "https://localhost:8080/",
          "height": 71
        },
        "outputId": "b3d203eb-abac-4aee-8113-77e7434a032d"
      },
      "source": [
        "data = pd.read_csv(\"game_analysis_12_03_2019_10_22_52.psv\", sep=\"|\")"
      ],
      "execution_count": 8,
      "outputs": [
        {
          "output_type": "stream",
          "text": [
            "/usr/local/lib/python3.6/dist-packages/IPython/core/interactiveshell.py:2718: DtypeWarning: Columns (4,5) have mixed types. Specify dtype option on import or set low_memory=False.\n",
            "  interactivity=interactivity, compiler=compiler, result=result)\n"
          ],
          "name": "stderr"
        }
      ]
    },
    {
      "cell_type": "code",
      "metadata": {
        "id": "33dsFiE3CmXX",
        "colab_type": "code",
        "colab": {
          "base_uri": "https://localhost:8080/",
          "height": 478
        },
        "outputId": "844e14d8-8cb8-4974-c124-5213884717e4"
      },
      "source": [
        "data.describe(include=\"all\")"
      ],
      "execution_count": 13,
      "outputs": [
        {
          "output_type": "execute_result",
          "data": {
            "text/html": [
              "<div>\n",
              "<style scoped>\n",
              "    .dataframe tbody tr th:only-of-type {\n",
              "        vertical-align: middle;\n",
              "    }\n",
              "\n",
              "    .dataframe tbody tr th {\n",
              "        vertical-align: top;\n",
              "    }\n",
              "\n",
              "    .dataframe thead th {\n",
              "        text-align: right;\n",
              "    }\n",
              "</style>\n",
              "<table border=\"1\" class=\"dataframe\">\n",
              "  <thead>\n",
              "    <tr style=\"text-align: right;\">\n",
              "      <th></th>\n",
              "      <th>Event</th>\n",
              "      <th>Is Draw</th>\n",
              "      <th>Has Black Won</th>\n",
              "      <th>Opening</th>\n",
              "      <th>White ELO</th>\n",
              "      <th>Black ELO</th>\n",
              "      <th>Time Control</th>\n",
              "      <th>Termination</th>\n",
              "      <th>Total White Score</th>\n",
              "      <th>Total Black Score</th>\n",
              "      <th>No. White Moves</th>\n",
              "      <th>No. Black Moves</th>\n",
              "      <th>White Avg. Score</th>\n",
              "      <th>Black Avg. Score</th>\n",
              "    </tr>\n",
              "  </thead>\n",
              "  <tbody>\n",
              "    <tr>\n",
              "      <th>count</th>\n",
              "      <td>118185</td>\n",
              "      <td>118185</td>\n",
              "      <td>118185</td>\n",
              "      <td>118185</td>\n",
              "      <td>118185</td>\n",
              "      <td>118185</td>\n",
              "      <td>118185</td>\n",
              "      <td>118185</td>\n",
              "      <td>118185.000000</td>\n",
              "      <td>118185.000000</td>\n",
              "      <td>118185.000000</td>\n",
              "      <td>118185.000000</td>\n",
              "      <td>118185.000000</td>\n",
              "      <td>118185.000000</td>\n",
              "    </tr>\n",
              "    <tr>\n",
              "      <th>unique</th>\n",
              "      <td>84</td>\n",
              "      <td>2</td>\n",
              "      <td>2</td>\n",
              "      <td>2120</td>\n",
              "      <td>3782</td>\n",
              "      <td>3775</td>\n",
              "      <td>207</td>\n",
              "      <td>5</td>\n",
              "      <td>NaN</td>\n",
              "      <td>NaN</td>\n",
              "      <td>NaN</td>\n",
              "      <td>NaN</td>\n",
              "      <td>NaN</td>\n",
              "      <td>NaN</td>\n",
              "    </tr>\n",
              "    <tr>\n",
              "      <th>top</th>\n",
              "      <td>Rated Blitz game</td>\n",
              "      <td>False</td>\n",
              "      <td>False</td>\n",
              "      <td>Modern Defense</td>\n",
              "      <td>1500</td>\n",
              "      <td>1500</td>\n",
              "      <td>60+0</td>\n",
              "      <td>Normal</td>\n",
              "      <td>NaN</td>\n",
              "      <td>NaN</td>\n",
              "      <td>NaN</td>\n",
              "      <td>NaN</td>\n",
              "      <td>NaN</td>\n",
              "      <td>NaN</td>\n",
              "    </tr>\n",
              "    <tr>\n",
              "      <th>freq</th>\n",
              "      <td>49683</td>\n",
              "      <td>114041</td>\n",
              "      <td>63004</td>\n",
              "      <td>2293</td>\n",
              "      <td>310</td>\n",
              "      <td>228</td>\n",
              "      <td>32866</td>\n",
              "      <td>76877</td>\n",
              "      <td>NaN</td>\n",
              "      <td>NaN</td>\n",
              "      <td>NaN</td>\n",
              "      <td>NaN</td>\n",
              "      <td>NaN</td>\n",
              "      <td>NaN</td>\n",
              "    </tr>\n",
              "    <tr>\n",
              "      <th>mean</th>\n",
              "      <td>NaN</td>\n",
              "      <td>NaN</td>\n",
              "      <td>NaN</td>\n",
              "      <td>NaN</td>\n",
              "      <td>NaN</td>\n",
              "      <td>NaN</td>\n",
              "      <td>NaN</td>\n",
              "      <td>NaN</td>\n",
              "      <td>2193.035385</td>\n",
              "      <td>769.131751</td>\n",
              "      <td>32.917028</td>\n",
              "      <td>33.431654</td>\n",
              "      <td>74.996486</td>\n",
              "      <td>20.695771</td>\n",
              "    </tr>\n",
              "    <tr>\n",
              "      <th>std</th>\n",
              "      <td>NaN</td>\n",
              "      <td>NaN</td>\n",
              "      <td>NaN</td>\n",
              "      <td>NaN</td>\n",
              "      <td>NaN</td>\n",
              "      <td>NaN</td>\n",
              "      <td>NaN</td>\n",
              "      <td>NaN</td>\n",
              "      <td>17014.907881</td>\n",
              "      <td>17058.130245</td>\n",
              "      <td>15.050064</td>\n",
              "      <td>15.037774</td>\n",
              "      <td>416.750273</td>\n",
              "      <td>410.841720</td>\n",
              "    </tr>\n",
              "    <tr>\n",
              "      <th>min</th>\n",
              "      <td>NaN</td>\n",
              "      <td>NaN</td>\n",
              "      <td>NaN</td>\n",
              "      <td>NaN</td>\n",
              "      <td>NaN</td>\n",
              "      <td>NaN</td>\n",
              "      <td>NaN</td>\n",
              "      <td>NaN</td>\n",
              "      <td>-157054.000000</td>\n",
              "      <td>-154670.000000</td>\n",
              "      <td>0.000000</td>\n",
              "      <td>0.000000</td>\n",
              "      <td>-2488.000000</td>\n",
              "      <td>-2549.740000</td>\n",
              "    </tr>\n",
              "    <tr>\n",
              "      <th>25%</th>\n",
              "      <td>NaN</td>\n",
              "      <td>NaN</td>\n",
              "      <td>NaN</td>\n",
              "      <td>NaN</td>\n",
              "      <td>NaN</td>\n",
              "      <td>NaN</td>\n",
              "      <td>NaN</td>\n",
              "      <td>NaN</td>\n",
              "      <td>-4518.000000</td>\n",
              "      <td>-6052.000000</td>\n",
              "      <td>23.000000</td>\n",
              "      <td>23.000000</td>\n",
              "      <td>-154.650000</td>\n",
              "      <td>-209.500000</td>\n",
              "    </tr>\n",
              "    <tr>\n",
              "      <th>50%</th>\n",
              "      <td>NaN</td>\n",
              "      <td>NaN</td>\n",
              "      <td>NaN</td>\n",
              "      <td>NaN</td>\n",
              "      <td>NaN</td>\n",
              "      <td>NaN</td>\n",
              "      <td>NaN</td>\n",
              "      <td>NaN</td>\n",
              "      <td>1697.000000</td>\n",
              "      <td>327.000000</td>\n",
              "      <td>31.000000</td>\n",
              "      <td>32.000000</td>\n",
              "      <td>79.140000</td>\n",
              "      <td>16.000000</td>\n",
              "    </tr>\n",
              "    <tr>\n",
              "      <th>75%</th>\n",
              "      <td>NaN</td>\n",
              "      <td>NaN</td>\n",
              "      <td>NaN</td>\n",
              "      <td>NaN</td>\n",
              "      <td>NaN</td>\n",
              "      <td>NaN</td>\n",
              "      <td>NaN</td>\n",
              "      <td>NaN</td>\n",
              "      <td>9194.000000</td>\n",
              "      <td>7684.000000</td>\n",
              "      <td>42.000000</td>\n",
              "      <td>42.000000</td>\n",
              "      <td>316.160000</td>\n",
              "      <td>253.340000</td>\n",
              "    </tr>\n",
              "    <tr>\n",
              "      <th>max</th>\n",
              "      <td>NaN</td>\n",
              "      <td>NaN</td>\n",
              "      <td>NaN</td>\n",
              "      <td>NaN</td>\n",
              "      <td>NaN</td>\n",
              "      <td>NaN</td>\n",
              "      <td>NaN</td>\n",
              "      <td>NaN</td>\n",
              "      <td>143289.000000</td>\n",
              "      <td>176463.000000</td>\n",
              "      <td>130.000000</td>\n",
              "      <td>131.000000</td>\n",
              "      <td>2424.790000</td>\n",
              "      <td>3155.090000</td>\n",
              "    </tr>\n",
              "  </tbody>\n",
              "</table>\n",
              "</div>"
            ],
            "text/plain": [
              "                   Event Is Draw  ... White Avg. Score Black Avg. Score\n",
              "count             118185  118185  ...    118185.000000    118185.000000\n",
              "unique                84       2  ...              NaN              NaN\n",
              "top     Rated Blitz game   False  ...              NaN              NaN\n",
              "freq               49683  114041  ...              NaN              NaN\n",
              "mean                 NaN     NaN  ...        74.996486        20.695771\n",
              "std                  NaN     NaN  ...       416.750273       410.841720\n",
              "min                  NaN     NaN  ...     -2488.000000     -2549.740000\n",
              "25%                  NaN     NaN  ...      -154.650000      -209.500000\n",
              "50%                  NaN     NaN  ...        79.140000        16.000000\n",
              "75%                  NaN     NaN  ...       316.160000       253.340000\n",
              "max                  NaN     NaN  ...      2424.790000      3155.090000\n",
              "\n",
              "[11 rows x 14 columns]"
            ]
          },
          "metadata": {
            "tags": []
          },
          "execution_count": 13
        }
      ]
    },
    {
      "cell_type": "code",
      "metadata": {
        "id": "BNYUs1tPCuVw",
        "colab_type": "code",
        "colab": {
          "base_uri": "https://localhost:8080/",
          "height": 221
        },
        "outputId": "beaa1667-ae24-4591-9abf-f08c7c874cae"
      },
      "source": [
        "data.Event.value_counts()"
      ],
      "execution_count": 15,
      "outputs": [
        {
          "output_type": "execute_result",
          "data": {
            "text/plain": [
              "Rated Blitz game                                                  49683\n",
              "Rated Bullet game                                                 39459\n",
              "Rated Rapid game                                                  12359\n",
              "Rated Classical game                                               3694\n",
              "Rated Blitz tournament https://lichess.org/tournament/3LP1t1uP      798\n",
              "                                                                  ...  \n",
              "Rated Blitz tournament https://lichess.org/tournament/ERKO8fwT        2\n",
              "Rated Blitz tournament https://lichess.org/tournament/sh8ODiwG        2\n",
              "Casual Classical game                                                 2\n",
              "Rated Rapid tournament https://lichess.org/tournament/4BQN27Qy        1\n",
              "Rated Blitz tournament https://lichess.org/tournament/pOcppo3c        1\n",
              "Name: Event, Length: 84, dtype: int64"
            ]
          },
          "metadata": {
            "tags": []
          },
          "execution_count": 15
        }
      ]
    },
    {
      "cell_type": "code",
      "metadata": {
        "id": "vtGKNKx9C8k5",
        "colab_type": "code",
        "colab": {}
      },
      "source": [
        "str = \"Rated Blitz tournament https://lichess.org/tournament/ERKO8fwT\""
      ],
      "execution_count": 0,
      "outputs": []
    },
    {
      "cell_type": "code",
      "metadata": {
        "id": "2TtUuN4WD3lQ",
        "colab_type": "code",
        "colab": {}
      },
      "source": [
        "import re"
      ],
      "execution_count": 0,
      "outputs": []
    },
    {
      "cell_type": "code",
      "metadata": {
        "id": "t3yqjJvUD4ZQ",
        "colab_type": "code",
        "colab": {}
      },
      "source": [
        "val = re.sub('Rated Blitz.+', 'Rated Blitz game', str)"
      ],
      "execution_count": 0,
      "outputs": []
    },
    {
      "cell_type": "code",
      "metadata": {
        "id": "4AzCiBGEEHlj",
        "colab_type": "code",
        "colab": {
          "base_uri": "https://localhost:8080/",
          "height": 34
        },
        "outputId": "fae38dc1-7d53-4000-bc3d-afaa491f7056"
      },
      "source": [
        "val"
      ],
      "execution_count": 31,
      "outputs": [
        {
          "output_type": "execute_result",
          "data": {
            "text/plain": [
              "'Rated Blitz'"
            ]
          },
          "metadata": {
            "tags": []
          },
          "execution_count": 31
        }
      ]
    },
    {
      "cell_type": "code",
      "metadata": {
        "id": "2atEgVTaEIEa",
        "colab_type": "code",
        "colab": {}
      },
      "source": [
        "event_parsed = data[\"Event\"].apply(lambda x: re.sub('Rated Blitz.+', 'Rated Blitz game', x))"
      ],
      "execution_count": 0,
      "outputs": []
    },
    {
      "cell_type": "code",
      "metadata": {
        "id": "Ag3ztfGoEkgu",
        "colab_type": "code",
        "colab": {
          "base_uri": "https://localhost:8080/",
          "height": 765
        },
        "outputId": "c2b909d5-1ac5-4ad7-9199-a97ade09532f"
      },
      "source": [
        "event_parsed.value_counts()"
      ],
      "execution_count": 39,
      "outputs": [
        {
          "output_type": "execute_result",
          "data": {
            "text/plain": [
              "Rated Blitz game                                                        56085\n",
              "Rated Bullet game                                                       39459\n",
              "Rated Rapid game                                                        12359\n",
              "Rated Classical game                                                     3694\n",
              "Rated Bullet tournament https://lichess.org/tournament/rmJVcmCj           391\n",
              "Rated UltraBullet game                                                    383\n",
              "Rated Bullet tournament https://lichess.org/tournament/ZfJZEJJB           348\n",
              "Rated Bullet tournament https://lichess.org/tournament/rk3OHKUp           346\n",
              "Rated Rapid tournament https://lichess.org/tournament/SWqle0EA            345\n",
              "Rated Bullet tournament https://lichess.org/tournament/IT1XrvPC           323\n",
              "Rated Rapid tournament https://lichess.org/tournament/v9RbANk7            323\n",
              "Rated Bullet tournament https://lichess.org/tournament/Tw0jKVeW           321\n",
              "Rated Bullet tournament https://lichess.org/tournament/P4mbo2E1           300\n",
              "Rated Bullet tournament https://lichess.org/tournament/zbnfivs1           278\n",
              "Rated Bullet tournament https://lichess.org/tournament/iHSPdvdn           275\n",
              "Rated Bullet tournament https://lichess.org/tournament/90uoPGQr           273\n",
              "Rated Bullet tournament https://lichess.org/tournament/DBjcLgb4           236\n",
              "Rated Correspondence game                                                 227\n",
              "Rated Bullet tournament https://lichess.org/tournament/zzpSsCwU           221\n",
              "Rated Rapid tournament https://lichess.org/tournament/ukq3lRRp            198\n",
              "Rated UltraBullet tournament https://lichess.org/tournament/3AraW6Ml      193\n",
              "Rated Bullet tournament https://lichess.org/tournament/toOcCCrk           192\n",
              "Rated Rapid tournament https://lichess.org/tournament/fMHPx78O            178\n",
              "Rated UltraBullet tournament https://lichess.org/tournament/Ji4Gn8ZO      157\n",
              "Rated Bullet tournament https://lichess.org/tournament/avcHRiN4           150\n",
              "Rated Bullet tournament https://lichess.org/tournament/reW1bHSx           135\n",
              "Rated Bullet tournament https://lichess.org/tournament/5IqiHbNX           134\n",
              "Rated UltraBullet tournament https://lichess.org/tournament/hZh8E0Ym      131\n",
              "Rated UltraBullet tournament https://lichess.org/tournament/8jHBgLVo      122\n",
              "Rated Bullet tournament https://lichess.org/tournament/DIOsBGi9           109\n",
              "Rated Rapid tournament https://lichess.org/tournament/O28iU1A7             79\n",
              "Rated Rapid tournament https://lichess.org/tournament/TCjNYqbl             61\n",
              "Rated Bullet tournament https://lichess.org/tournament/KWd3fshB            36\n",
              "Rated Bullet tournament https://lichess.org/tournament/EFUJSLhl            29\n",
              "Rated Bullet tournament https://lichess.org/tournament/rJ5yDETp            28\n",
              "Rated Rapid tournament https://lichess.org/tournament/EglnH6aw             25\n",
              "Rated Bullet tournament https://lichess.org/tournament/zETuIyOM            13\n",
              "Rated Classical tournament https://lichess.org/tournament/80cjwQfn          9\n",
              "Rated Bullet tournament https://lichess.org/tournament/1jgWmdiw             8\n",
              "Rated UltraBullet tournament https://lichess.org/tournament/Z5KB09li        5\n",
              "Rated Bullet tournament https://lichess.org/tournament/dISxJ6Oh             3\n",
              "Casual Classical game                                                       2\n",
              "Rated Rapid tournament https://lichess.org/tournament/4BQN27Qy              1\n",
              "Name: Event, dtype: int64"
            ]
          },
          "metadata": {
            "tags": []
          },
          "execution_count": 39
        }
      ]
    },
    {
      "cell_type": "code",
      "metadata": {
        "id": "tYcFNhNBEn9f",
        "colab_type": "code",
        "colab": {}
      },
      "source": [
        "event_parsed = event_parsed.apply(lambda x: re.sub('Rated Bullet.+', 'Rated Bullet game', x))"
      ],
      "execution_count": 0,
      "outputs": []
    },
    {
      "cell_type": "code",
      "metadata": {
        "id": "FwzjtQrNE5D_",
        "colab_type": "code",
        "colab": {}
      },
      "source": [
        "event_parsed = event_parsed.apply(lambda x: re.sub('Rated Rapid.+', 'Rated Rapid game', x))"
      ],
      "execution_count": 0,
      "outputs": []
    },
    {
      "cell_type": "code",
      "metadata": {
        "id": "XyU_QC0-E58A",
        "colab_type": "code",
        "colab": {}
      },
      "source": [
        "event_parsed = event_parsed.apply(lambda x: re.sub('Rated UltraBullet.+', 'Rated UltraBullet game', x))"
      ],
      "execution_count": 0,
      "outputs": []
    },
    {
      "cell_type": "code",
      "metadata": {
        "id": "ibD7EnoSFFQS",
        "colab_type": "code",
        "colab": {}
      },
      "source": [
        "event_parsed = event_parsed.apply(lambda x: re.sub('Rated Classical.+', 'Rated Classical game', x))"
      ],
      "execution_count": 0,
      "outputs": []
    },
    {
      "cell_type": "code",
      "metadata": {
        "id": "bVQghH-BFLIT",
        "colab_type": "code",
        "colab": {
          "base_uri": "https://localhost:8080/",
          "height": 153
        },
        "outputId": "f752f993-9508-49de-de71-686e52621b69"
      },
      "source": [
        "event_parsed.value_counts()"
      ],
      "execution_count": 49,
      "outputs": [
        {
          "output_type": "execute_result",
          "data": {
            "text/plain": [
              "Rated Blitz game             56085\n",
              "Rated Bullet game            43608\n",
              "Rated Rapid game             13569\n",
              "Rated Classical game          3703\n",
              "Rated UltraBullet game         991\n",
              "Rated Correspondence game      227\n",
              "Casual Classical game            2\n",
              "Name: Event, dtype: int64"
            ]
          },
          "metadata": {
            "tags": []
          },
          "execution_count": 49
        }
      ]
    },
    {
      "cell_type": "code",
      "metadata": {
        "id": "SBjRvyM5FTor",
        "colab_type": "code",
        "colab": {}
      },
      "source": [
        "def clean_event_column(event_parsed):\n",
        "  event_parsed = event_parsed.apply(lambda x: re.sub('Rated Blitz.+', 'Rated Blitz game', x))\n",
        "  event_parsed = event_parsed.apply(lambda x: re.sub('Rated Bullet.+', 'Rated Bullet game', x))\n",
        "  event_parsed = event_parsed.apply(lambda x: re.sub('Rated Rapid.+', 'Rated Rapid game', x))\n",
        "  event_parsed = event_parsed.apply(lambda x: re.sub('Rated UltraBullet.+', 'Rated UltraBullet game', x))\n",
        "  event_parsed = event_parsed.apply(lambda x: re.sub('Rated Classical.+', 'Rated Classical game', x))\n",
        "\n",
        "  return event_parsed"
      ],
      "execution_count": 0,
      "outputs": []
    },
    {
      "cell_type": "code",
      "metadata": {
        "id": "IpRn74nnFnjW",
        "colab_type": "code",
        "colab": {}
      },
      "source": [
        "data[\"Event\"] = clean_event_column(data[\"Event\"])"
      ],
      "execution_count": 0,
      "outputs": []
    },
    {
      "cell_type": "code",
      "metadata": {
        "id": "tOGcO1NPFq--",
        "colab_type": "code",
        "colab": {
          "base_uri": "https://localhost:8080/",
          "height": 478
        },
        "outputId": "7c641f41-e6b5-4622-cf79-7f4ed06470c6"
      },
      "source": [
        "data.describe(include=\"all\")"
      ],
      "execution_count": 55,
      "outputs": [
        {
          "output_type": "execute_result",
          "data": {
            "text/html": [
              "<div>\n",
              "<style scoped>\n",
              "    .dataframe tbody tr th:only-of-type {\n",
              "        vertical-align: middle;\n",
              "    }\n",
              "\n",
              "    .dataframe tbody tr th {\n",
              "        vertical-align: top;\n",
              "    }\n",
              "\n",
              "    .dataframe thead th {\n",
              "        text-align: right;\n",
              "    }\n",
              "</style>\n",
              "<table border=\"1\" class=\"dataframe\">\n",
              "  <thead>\n",
              "    <tr style=\"text-align: right;\">\n",
              "      <th></th>\n",
              "      <th>Event</th>\n",
              "      <th>Is Draw</th>\n",
              "      <th>Has Black Won</th>\n",
              "      <th>Opening</th>\n",
              "      <th>White ELO</th>\n",
              "      <th>Black ELO</th>\n",
              "      <th>Time Control</th>\n",
              "      <th>Termination</th>\n",
              "      <th>Total White Score</th>\n",
              "      <th>Total Black Score</th>\n",
              "      <th>No. White Moves</th>\n",
              "      <th>No. Black Moves</th>\n",
              "      <th>White Avg. Score</th>\n",
              "      <th>Black Avg. Score</th>\n",
              "    </tr>\n",
              "  </thead>\n",
              "  <tbody>\n",
              "    <tr>\n",
              "      <th>count</th>\n",
              "      <td>118185</td>\n",
              "      <td>118185</td>\n",
              "      <td>118185</td>\n",
              "      <td>118185</td>\n",
              "      <td>118185</td>\n",
              "      <td>118185</td>\n",
              "      <td>118185</td>\n",
              "      <td>118185</td>\n",
              "      <td>118185.000000</td>\n",
              "      <td>118185.000000</td>\n",
              "      <td>118185.000000</td>\n",
              "      <td>118185.000000</td>\n",
              "      <td>118185.000000</td>\n",
              "      <td>118185.000000</td>\n",
              "    </tr>\n",
              "    <tr>\n",
              "      <th>unique</th>\n",
              "      <td>7</td>\n",
              "      <td>2</td>\n",
              "      <td>2</td>\n",
              "      <td>2120</td>\n",
              "      <td>3782</td>\n",
              "      <td>3775</td>\n",
              "      <td>207</td>\n",
              "      <td>5</td>\n",
              "      <td>NaN</td>\n",
              "      <td>NaN</td>\n",
              "      <td>NaN</td>\n",
              "      <td>NaN</td>\n",
              "      <td>NaN</td>\n",
              "      <td>NaN</td>\n",
              "    </tr>\n",
              "    <tr>\n",
              "      <th>top</th>\n",
              "      <td>Rated Blitz game</td>\n",
              "      <td>False</td>\n",
              "      <td>False</td>\n",
              "      <td>Modern Defense</td>\n",
              "      <td>1500</td>\n",
              "      <td>1500</td>\n",
              "      <td>60+0</td>\n",
              "      <td>Normal</td>\n",
              "      <td>NaN</td>\n",
              "      <td>NaN</td>\n",
              "      <td>NaN</td>\n",
              "      <td>NaN</td>\n",
              "      <td>NaN</td>\n",
              "      <td>NaN</td>\n",
              "    </tr>\n",
              "    <tr>\n",
              "      <th>freq</th>\n",
              "      <td>56085</td>\n",
              "      <td>114041</td>\n",
              "      <td>63004</td>\n",
              "      <td>2293</td>\n",
              "      <td>310</td>\n",
              "      <td>228</td>\n",
              "      <td>32866</td>\n",
              "      <td>76877</td>\n",
              "      <td>NaN</td>\n",
              "      <td>NaN</td>\n",
              "      <td>NaN</td>\n",
              "      <td>NaN</td>\n",
              "      <td>NaN</td>\n",
              "      <td>NaN</td>\n",
              "    </tr>\n",
              "    <tr>\n",
              "      <th>mean</th>\n",
              "      <td>NaN</td>\n",
              "      <td>NaN</td>\n",
              "      <td>NaN</td>\n",
              "      <td>NaN</td>\n",
              "      <td>NaN</td>\n",
              "      <td>NaN</td>\n",
              "      <td>NaN</td>\n",
              "      <td>NaN</td>\n",
              "      <td>2193.035385</td>\n",
              "      <td>769.131751</td>\n",
              "      <td>32.917028</td>\n",
              "      <td>33.431654</td>\n",
              "      <td>74.996486</td>\n",
              "      <td>20.695771</td>\n",
              "    </tr>\n",
              "    <tr>\n",
              "      <th>std</th>\n",
              "      <td>NaN</td>\n",
              "      <td>NaN</td>\n",
              "      <td>NaN</td>\n",
              "      <td>NaN</td>\n",
              "      <td>NaN</td>\n",
              "      <td>NaN</td>\n",
              "      <td>NaN</td>\n",
              "      <td>NaN</td>\n",
              "      <td>17014.907881</td>\n",
              "      <td>17058.130245</td>\n",
              "      <td>15.050064</td>\n",
              "      <td>15.037774</td>\n",
              "      <td>416.750273</td>\n",
              "      <td>410.841720</td>\n",
              "    </tr>\n",
              "    <tr>\n",
              "      <th>min</th>\n",
              "      <td>NaN</td>\n",
              "      <td>NaN</td>\n",
              "      <td>NaN</td>\n",
              "      <td>NaN</td>\n",
              "      <td>NaN</td>\n",
              "      <td>NaN</td>\n",
              "      <td>NaN</td>\n",
              "      <td>NaN</td>\n",
              "      <td>-157054.000000</td>\n",
              "      <td>-154670.000000</td>\n",
              "      <td>0.000000</td>\n",
              "      <td>0.000000</td>\n",
              "      <td>-2488.000000</td>\n",
              "      <td>-2549.740000</td>\n",
              "    </tr>\n",
              "    <tr>\n",
              "      <th>25%</th>\n",
              "      <td>NaN</td>\n",
              "      <td>NaN</td>\n",
              "      <td>NaN</td>\n",
              "      <td>NaN</td>\n",
              "      <td>NaN</td>\n",
              "      <td>NaN</td>\n",
              "      <td>NaN</td>\n",
              "      <td>NaN</td>\n",
              "      <td>-4518.000000</td>\n",
              "      <td>-6052.000000</td>\n",
              "      <td>23.000000</td>\n",
              "      <td>23.000000</td>\n",
              "      <td>-154.650000</td>\n",
              "      <td>-209.500000</td>\n",
              "    </tr>\n",
              "    <tr>\n",
              "      <th>50%</th>\n",
              "      <td>NaN</td>\n",
              "      <td>NaN</td>\n",
              "      <td>NaN</td>\n",
              "      <td>NaN</td>\n",
              "      <td>NaN</td>\n",
              "      <td>NaN</td>\n",
              "      <td>NaN</td>\n",
              "      <td>NaN</td>\n",
              "      <td>1697.000000</td>\n",
              "      <td>327.000000</td>\n",
              "      <td>31.000000</td>\n",
              "      <td>32.000000</td>\n",
              "      <td>79.140000</td>\n",
              "      <td>16.000000</td>\n",
              "    </tr>\n",
              "    <tr>\n",
              "      <th>75%</th>\n",
              "      <td>NaN</td>\n",
              "      <td>NaN</td>\n",
              "      <td>NaN</td>\n",
              "      <td>NaN</td>\n",
              "      <td>NaN</td>\n",
              "      <td>NaN</td>\n",
              "      <td>NaN</td>\n",
              "      <td>NaN</td>\n",
              "      <td>9194.000000</td>\n",
              "      <td>7684.000000</td>\n",
              "      <td>42.000000</td>\n",
              "      <td>42.000000</td>\n",
              "      <td>316.160000</td>\n",
              "      <td>253.340000</td>\n",
              "    </tr>\n",
              "    <tr>\n",
              "      <th>max</th>\n",
              "      <td>NaN</td>\n",
              "      <td>NaN</td>\n",
              "      <td>NaN</td>\n",
              "      <td>NaN</td>\n",
              "      <td>NaN</td>\n",
              "      <td>NaN</td>\n",
              "      <td>NaN</td>\n",
              "      <td>NaN</td>\n",
              "      <td>143289.000000</td>\n",
              "      <td>176463.000000</td>\n",
              "      <td>130.000000</td>\n",
              "      <td>131.000000</td>\n",
              "      <td>2424.790000</td>\n",
              "      <td>3155.090000</td>\n",
              "    </tr>\n",
              "  </tbody>\n",
              "</table>\n",
              "</div>"
            ],
            "text/plain": [
              "                   Event Is Draw  ... White Avg. Score Black Avg. Score\n",
              "count             118185  118185  ...    118185.000000    118185.000000\n",
              "unique                 7       2  ...              NaN              NaN\n",
              "top     Rated Blitz game   False  ...              NaN              NaN\n",
              "freq               56085  114041  ...              NaN              NaN\n",
              "mean                 NaN     NaN  ...        74.996486        20.695771\n",
              "std                  NaN     NaN  ...       416.750273       410.841720\n",
              "min                  NaN     NaN  ...     -2488.000000     -2549.740000\n",
              "25%                  NaN     NaN  ...      -154.650000      -209.500000\n",
              "50%                  NaN     NaN  ...        79.140000        16.000000\n",
              "75%                  NaN     NaN  ...       316.160000       253.340000\n",
              "max                  NaN     NaN  ...      2424.790000      3155.090000\n",
              "\n",
              "[11 rows x 14 columns]"
            ]
          },
          "metadata": {
            "tags": []
          },
          "execution_count": 55
        }
      ]
    },
    {
      "cell_type": "code",
      "metadata": {
        "id": "oE7nQMCdFtw-",
        "colab_type": "code",
        "colab": {
          "base_uri": "https://localhost:8080/",
          "height": 153
        },
        "outputId": "6893533e-7f13-452e-a816-9246fcfc89cb"
      },
      "source": [
        "data['Event'].value_counts()"
      ],
      "execution_count": 57,
      "outputs": [
        {
          "output_type": "execute_result",
          "data": {
            "text/plain": [
              "Rated Blitz game             56085\n",
              "Rated Bullet game            43608\n",
              "Rated Rapid game             13569\n",
              "Rated Classical game          3703\n",
              "Rated UltraBullet game         991\n",
              "Rated Correspondence game      227\n",
              "Casual Classical game            2\n",
              "Name: Event, dtype: int64"
            ]
          },
          "metadata": {
            "tags": []
          },
          "execution_count": 57
        }
      ]
    },
    {
      "cell_type": "code",
      "metadata": {
        "id": "gPBJS8dTGJV6",
        "colab_type": "code",
        "colab": {
          "base_uri": "https://localhost:8080/",
          "height": 419
        },
        "outputId": "24845941-d9c2-4c29-aa06-c2b3e4d2c5df"
      },
      "source": [
        ""
      ],
      "execution_count": 63,
      "outputs": [
        {
          "output_type": "execute_result",
          "data": {
            "text/html": [
              "<div>\n",
              "<style scoped>\n",
              "    .dataframe tbody tr th:only-of-type {\n",
              "        vertical-align: middle;\n",
              "    }\n",
              "\n",
              "    .dataframe tbody tr th {\n",
              "        vertical-align: top;\n",
              "    }\n",
              "\n",
              "    .dataframe thead th {\n",
              "        text-align: right;\n",
              "    }\n",
              "</style>\n",
              "<table border=\"1\" class=\"dataframe\">\n",
              "  <thead>\n",
              "    <tr style=\"text-align: right;\">\n",
              "      <th></th>\n",
              "      <th>White ELO</th>\n",
              "      <th>Black ELO</th>\n",
              "    </tr>\n",
              "  </thead>\n",
              "  <tbody>\n",
              "    <tr>\n",
              "      <th>0</th>\n",
              "      <td>1418</td>\n",
              "      <td>1390</td>\n",
              "    </tr>\n",
              "    <tr>\n",
              "      <th>1</th>\n",
              "      <td>2002</td>\n",
              "      <td>1988</td>\n",
              "    </tr>\n",
              "    <tr>\n",
              "      <th>2</th>\n",
              "      <td>2096</td>\n",
              "      <td>2132</td>\n",
              "    </tr>\n",
              "    <tr>\n",
              "      <th>3</th>\n",
              "      <td>2079</td>\n",
              "      <td>2059</td>\n",
              "    </tr>\n",
              "    <tr>\n",
              "      <th>4</th>\n",
              "      <td>1607</td>\n",
              "      <td>1666</td>\n",
              "    </tr>\n",
              "    <tr>\n",
              "      <th>...</th>\n",
              "      <td>...</td>\n",
              "      <td>...</td>\n",
              "    </tr>\n",
              "    <tr>\n",
              "      <th>118180</th>\n",
              "      <td>1654</td>\n",
              "      <td>1621</td>\n",
              "    </tr>\n",
              "    <tr>\n",
              "      <th>118181</th>\n",
              "      <td>1474</td>\n",
              "      <td>1392</td>\n",
              "    </tr>\n",
              "    <tr>\n",
              "      <th>118182</th>\n",
              "      <td>1976</td>\n",
              "      <td>2022</td>\n",
              "    </tr>\n",
              "    <tr>\n",
              "      <th>118183</th>\n",
              "      <td>2133</td>\n",
              "      <td>2013</td>\n",
              "    </tr>\n",
              "    <tr>\n",
              "      <th>118184</th>\n",
              "      <td>986</td>\n",
              "      <td>1245</td>\n",
              "    </tr>\n",
              "  </tbody>\n",
              "</table>\n",
              "<p>118185 rows × 2 columns</p>\n",
              "</div>"
            ],
            "text/plain": [
              "       White ELO Black ELO\n",
              "0           1418      1390\n",
              "1           2002      1988\n",
              "2           2096      2132\n",
              "3           2079      2059\n",
              "4           1607      1666\n",
              "...          ...       ...\n",
              "118180      1654      1621\n",
              "118181      1474      1392\n",
              "118182      1976      2022\n",
              "118183      2133      2013\n",
              "118184       986      1245\n",
              "\n",
              "[118185 rows x 2 columns]"
            ]
          },
          "metadata": {
            "tags": []
          },
          "execution_count": 63
        }
      ]
    },
    {
      "cell_type": "code",
      "metadata": {
        "id": "7wjydkWvGft-",
        "colab_type": "code",
        "colab": {}
      },
      "source": [
        "ELO = data[[\"White ELO\", \"Black ELO\"]]"
      ],
      "execution_count": 0,
      "outputs": []
    },
    {
      "cell_type": "code",
      "metadata": {
        "id": "WPQKRXz2G37R",
        "colab_type": "code",
        "colab": {}
      },
      "source": [
        "val = data[\"White ELO\"] == '?'"
      ],
      "execution_count": 0,
      "outputs": []
    },
    {
      "cell_type": "code",
      "metadata": {
        "id": "1dK8qJmbG5M3",
        "colab_type": "code",
        "colab": {}
      },
      "source": [
        "vax = data[data[\"White ELO\"] != '?']"
      ],
      "execution_count": 0,
      "outputs": []
    },
    {
      "cell_type": "code",
      "metadata": {
        "id": "l9YIYwsBP2IH",
        "colab_type": "code",
        "colab": {}
      },
      "source": [
        "vax = vax[vax[\"Black ELO\"] != '?']"
      ],
      "execution_count": 0,
      "outputs": []
    },
    {
      "cell_type": "code",
      "metadata": {
        "id": "EnjXap2GQ96Y",
        "colab_type": "code",
        "colab": {
          "base_uri": "https://localhost:8080/",
          "height": 139
        },
        "outputId": "7803ecd8-16b3-4fba-dbfe-efe6b700bef7"
      },
      "source": [
        "vax[\"Black ELO\"] = vax[\"Black ELO\"].astype('int')"
      ],
      "execution_count": 118,
      "outputs": [
        {
          "output_type": "stream",
          "text": [
            "/usr/local/lib/python3.6/dist-packages/ipykernel_launcher.py:1: SettingWithCopyWarning: \n",
            "A value is trying to be set on a copy of a slice from a DataFrame.\n",
            "Try using .loc[row_indexer,col_indexer] = value instead\n",
            "\n",
            "See the caveats in the documentation: http://pandas.pydata.org/pandas-docs/stable/user_guide/indexing.html#returning-a-view-versus-a-copy\n",
            "  \"\"\"Entry point for launching an IPython kernel.\n"
          ],
          "name": "stderr"
        }
      ]
    },
    {
      "cell_type": "code",
      "metadata": {
        "id": "gon2cWMXRH4x",
        "colab_type": "code",
        "colab": {
          "base_uri": "https://localhost:8080/",
          "height": 139
        },
        "outputId": "588d74e7-61a0-49e9-a9f2-a9bdd8dbcace"
      },
      "source": [
        "vax[\"White ELO\"] = vax[\"White ELO\"].astype('int')"
      ],
      "execution_count": 119,
      "outputs": [
        {
          "output_type": "stream",
          "text": [
            "/usr/local/lib/python3.6/dist-packages/ipykernel_launcher.py:1: SettingWithCopyWarning: \n",
            "A value is trying to be set on a copy of a slice from a DataFrame.\n",
            "Try using .loc[row_indexer,col_indexer] = value instead\n",
            "\n",
            "See the caveats in the documentation: http://pandas.pydata.org/pandas-docs/stable/user_guide/indexing.html#returning-a-view-versus-a-copy\n",
            "  \"\"\"Entry point for launching an IPython kernel.\n"
          ],
          "name": "stderr"
        }
      ]
    },
    {
      "cell_type": "code",
      "metadata": {
        "id": "guoUhZ53Rc7k",
        "colab_type": "code",
        "colab": {
          "base_uri": "https://localhost:8080/",
          "height": 139
        },
        "outputId": "cc9752a2-8a3f-494a-f452-5c8d4a3a3ff7"
      },
      "source": [
        "vax[\"AverageElo\"] = vax[[\"White ELO\", \"Black ELO\"]].mean(axis=1)"
      ],
      "execution_count": 122,
      "outputs": [
        {
          "output_type": "stream",
          "text": [
            "/usr/local/lib/python3.6/dist-packages/ipykernel_launcher.py:1: SettingWithCopyWarning: \n",
            "A value is trying to be set on a copy of a slice from a DataFrame.\n",
            "Try using .loc[row_indexer,col_indexer] = value instead\n",
            "\n",
            "See the caveats in the documentation: http://pandas.pydata.org/pandas-docs/stable/user_guide/indexing.html#returning-a-view-versus-a-copy\n",
            "  \"\"\"Entry point for launching an IPython kernel.\n"
          ],
          "name": "stderr"
        }
      ]
    },
    {
      "cell_type": "code",
      "metadata": {
        "id": "Z5lADH5xRlFk",
        "colab_type": "code",
        "colab": {
          "base_uri": "https://localhost:8080/",
          "height": 478
        },
        "outputId": "7aeb4ad4-15a5-4281-f24b-7d2bd40c7a22"
      },
      "source": [
        "vax.describe(include='all')"
      ],
      "execution_count": 129,
      "outputs": [
        {
          "output_type": "execute_result",
          "data": {
            "text/html": [
              "<div>\n",
              "<style scoped>\n",
              "    .dataframe tbody tr th:only-of-type {\n",
              "        vertical-align: middle;\n",
              "    }\n",
              "\n",
              "    .dataframe tbody tr th {\n",
              "        vertical-align: top;\n",
              "    }\n",
              "\n",
              "    .dataframe thead th {\n",
              "        text-align: right;\n",
              "    }\n",
              "</style>\n",
              "<table border=\"1\" class=\"dataframe\">\n",
              "  <thead>\n",
              "    <tr style=\"text-align: right;\">\n",
              "      <th></th>\n",
              "      <th>Event</th>\n",
              "      <th>Is Draw</th>\n",
              "      <th>Has Black Won</th>\n",
              "      <th>Opening</th>\n",
              "      <th>Time Control</th>\n",
              "      <th>Termination</th>\n",
              "      <th>Total White Score</th>\n",
              "      <th>Total Black Score</th>\n",
              "      <th>No. White Moves</th>\n",
              "      <th>No. Black Moves</th>\n",
              "      <th>White Avg. Score</th>\n",
              "      <th>Black Avg. Score</th>\n",
              "      <th>AverageElo</th>\n",
              "    </tr>\n",
              "  </thead>\n",
              "  <tbody>\n",
              "    <tr>\n",
              "      <th>count</th>\n",
              "      <td>118183</td>\n",
              "      <td>118183</td>\n",
              "      <td>118183</td>\n",
              "      <td>118183</td>\n",
              "      <td>118183</td>\n",
              "      <td>118183</td>\n",
              "      <td>118183.000000</td>\n",
              "      <td>118183.000000</td>\n",
              "      <td>118183.000000</td>\n",
              "      <td>118183.000000</td>\n",
              "      <td>118183.000000</td>\n",
              "      <td>118183.000000</td>\n",
              "      <td>118183.000000</td>\n",
              "    </tr>\n",
              "    <tr>\n",
              "      <th>unique</th>\n",
              "      <td>6</td>\n",
              "      <td>2</td>\n",
              "      <td>2</td>\n",
              "      <td>2120</td>\n",
              "      <td>207</td>\n",
              "      <td>5</td>\n",
              "      <td>NaN</td>\n",
              "      <td>NaN</td>\n",
              "      <td>NaN</td>\n",
              "      <td>NaN</td>\n",
              "      <td>NaN</td>\n",
              "      <td>NaN</td>\n",
              "      <td>NaN</td>\n",
              "    </tr>\n",
              "    <tr>\n",
              "      <th>top</th>\n",
              "      <td>Rated Blitz game</td>\n",
              "      <td>False</td>\n",
              "      <td>False</td>\n",
              "      <td>Modern Defense</td>\n",
              "      <td>60+0</td>\n",
              "      <td>Normal</td>\n",
              "      <td>NaN</td>\n",
              "      <td>NaN</td>\n",
              "      <td>NaN</td>\n",
              "      <td>NaN</td>\n",
              "      <td>NaN</td>\n",
              "      <td>NaN</td>\n",
              "      <td>NaN</td>\n",
              "    </tr>\n",
              "    <tr>\n",
              "      <th>freq</th>\n",
              "      <td>56085</td>\n",
              "      <td>114039</td>\n",
              "      <td>63004</td>\n",
              "      <td>2293</td>\n",
              "      <td>32866</td>\n",
              "      <td>76876</td>\n",
              "      <td>NaN</td>\n",
              "      <td>NaN</td>\n",
              "      <td>NaN</td>\n",
              "      <td>NaN</td>\n",
              "      <td>NaN</td>\n",
              "      <td>NaN</td>\n",
              "      <td>NaN</td>\n",
              "    </tr>\n",
              "    <tr>\n",
              "      <th>mean</th>\n",
              "      <td>NaN</td>\n",
              "      <td>NaN</td>\n",
              "      <td>NaN</td>\n",
              "      <td>NaN</td>\n",
              "      <td>NaN</td>\n",
              "      <td>NaN</td>\n",
              "      <td>2193.042747</td>\n",
              "      <td>769.155124</td>\n",
              "      <td>32.917196</td>\n",
              "      <td>33.431830</td>\n",
              "      <td>74.996369</td>\n",
              "      <td>20.696504</td>\n",
              "      <td>1620.108628</td>\n",
              "    </tr>\n",
              "    <tr>\n",
              "      <th>std</th>\n",
              "      <td>NaN</td>\n",
              "      <td>NaN</td>\n",
              "      <td>NaN</td>\n",
              "      <td>NaN</td>\n",
              "      <td>NaN</td>\n",
              "      <td>NaN</td>\n",
              "      <td>17015.051619</td>\n",
              "      <td>17058.273541</td>\n",
              "      <td>15.050080</td>\n",
              "      <td>15.037783</td>\n",
              "      <td>416.753796</td>\n",
              "      <td>410.845156</td>\n",
              "      <td>328.023958</td>\n",
              "    </tr>\n",
              "    <tr>\n",
              "      <th>min</th>\n",
              "      <td>NaN</td>\n",
              "      <td>NaN</td>\n",
              "      <td>NaN</td>\n",
              "      <td>NaN</td>\n",
              "      <td>NaN</td>\n",
              "      <td>NaN</td>\n",
              "      <td>-157054.000000</td>\n",
              "      <td>-154670.000000</td>\n",
              "      <td>0.000000</td>\n",
              "      <td>0.000000</td>\n",
              "      <td>-2488.000000</td>\n",
              "      <td>-2549.740000</td>\n",
              "      <td>609.500000</td>\n",
              "    </tr>\n",
              "    <tr>\n",
              "      <th>25%</th>\n",
              "      <td>NaN</td>\n",
              "      <td>NaN</td>\n",
              "      <td>NaN</td>\n",
              "      <td>NaN</td>\n",
              "      <td>NaN</td>\n",
              "      <td>NaN</td>\n",
              "      <td>-4518.500000</td>\n",
              "      <td>-6052.000000</td>\n",
              "      <td>23.000000</td>\n",
              "      <td>23.000000</td>\n",
              "      <td>-154.660000</td>\n",
              "      <td>-209.500000</td>\n",
              "      <td>1385.500000</td>\n",
              "    </tr>\n",
              "    <tr>\n",
              "      <th>50%</th>\n",
              "      <td>NaN</td>\n",
              "      <td>NaN</td>\n",
              "      <td>NaN</td>\n",
              "      <td>NaN</td>\n",
              "      <td>NaN</td>\n",
              "      <td>NaN</td>\n",
              "      <td>1697.000000</td>\n",
              "      <td>327.000000</td>\n",
              "      <td>31.000000</td>\n",
              "      <td>32.000000</td>\n",
              "      <td>79.140000</td>\n",
              "      <td>16.000000</td>\n",
              "      <td>1624.000000</td>\n",
              "    </tr>\n",
              "    <tr>\n",
              "      <th>75%</th>\n",
              "      <td>NaN</td>\n",
              "      <td>NaN</td>\n",
              "      <td>NaN</td>\n",
              "      <td>NaN</td>\n",
              "      <td>NaN</td>\n",
              "      <td>NaN</td>\n",
              "      <td>9194.000000</td>\n",
              "      <td>7684.000000</td>\n",
              "      <td>42.000000</td>\n",
              "      <td>42.000000</td>\n",
              "      <td>316.160000</td>\n",
              "      <td>253.345000</td>\n",
              "      <td>1854.500000</td>\n",
              "    </tr>\n",
              "    <tr>\n",
              "      <th>max</th>\n",
              "      <td>NaN</td>\n",
              "      <td>NaN</td>\n",
              "      <td>NaN</td>\n",
              "      <td>NaN</td>\n",
              "      <td>NaN</td>\n",
              "      <td>NaN</td>\n",
              "      <td>143289.000000</td>\n",
              "      <td>176463.000000</td>\n",
              "      <td>130.000000</td>\n",
              "      <td>131.000000</td>\n",
              "      <td>2424.790000</td>\n",
              "      <td>3155.090000</td>\n",
              "      <td>2748.000000</td>\n",
              "    </tr>\n",
              "  </tbody>\n",
              "</table>\n",
              "</div>"
            ],
            "text/plain": [
              "                   Event Is Draw  ... Black Avg. Score     AverageElo\n",
              "count             118183  118183  ...    118183.000000  118183.000000\n",
              "unique                 6       2  ...              NaN            NaN\n",
              "top     Rated Blitz game   False  ...              NaN            NaN\n",
              "freq               56085  114039  ...              NaN            NaN\n",
              "mean                 NaN     NaN  ...        20.696504    1620.108628\n",
              "std                  NaN     NaN  ...       410.845156     328.023958\n",
              "min                  NaN     NaN  ...     -2549.740000     609.500000\n",
              "25%                  NaN     NaN  ...      -209.500000    1385.500000\n",
              "50%                  NaN     NaN  ...        16.000000    1624.000000\n",
              "75%                  NaN     NaN  ...       253.345000    1854.500000\n",
              "max                  NaN     NaN  ...      3155.090000    2748.000000\n",
              "\n",
              "[11 rows x 13 columns]"
            ]
          },
          "metadata": {
            "tags": []
          },
          "execution_count": 129
        }
      ]
    },
    {
      "cell_type": "code",
      "metadata": {
        "id": "UjXEUIQpR7EP",
        "colab_type": "code",
        "colab": {}
      },
      "source": [
        "one_hot = pd.get_dummies(vax[\"Event\"])\n",
        "df = vax"
      ],
      "execution_count": 0,
      "outputs": []
    },
    {
      "cell_type": "code",
      "metadata": {
        "id": "cLL3z-RRZqoS",
        "colab_type": "code",
        "colab": {}
      },
      "source": [
        "df = df.drop(\"Event\", axis = 1)"
      ],
      "execution_count": 0,
      "outputs": []
    },
    {
      "cell_type": "code",
      "metadata": {
        "id": "Joo0zdbtZses",
        "colab_type": "code",
        "colab": {}
      },
      "source": [
        "df = df.join(one_hot)"
      ],
      "execution_count": 0,
      "outputs": []
    },
    {
      "cell_type": "code",
      "metadata": {
        "id": "hza1rSpMZ6Uv",
        "colab_type": "code",
        "colab": {
          "base_uri": "https://localhost:8080/",
          "height": 461
        },
        "outputId": "5d8419b1-98e7-4e4b-b487-7a4e87810bbe"
      },
      "source": [
        "df.describe(include='all')"
      ],
      "execution_count": 137,
      "outputs": [
        {
          "output_type": "execute_result",
          "data": {
            "text/html": [
              "<div>\n",
              "<style scoped>\n",
              "    .dataframe tbody tr th:only-of-type {\n",
              "        vertical-align: middle;\n",
              "    }\n",
              "\n",
              "    .dataframe tbody tr th {\n",
              "        vertical-align: top;\n",
              "    }\n",
              "\n",
              "    .dataframe thead th {\n",
              "        text-align: right;\n",
              "    }\n",
              "</style>\n",
              "<table border=\"1\" class=\"dataframe\">\n",
              "  <thead>\n",
              "    <tr style=\"text-align: right;\">\n",
              "      <th></th>\n",
              "      <th>Is Draw</th>\n",
              "      <th>Has Black Won</th>\n",
              "      <th>Opening</th>\n",
              "      <th>Time Control</th>\n",
              "      <th>Termination</th>\n",
              "      <th>Total White Score</th>\n",
              "      <th>Total Black Score</th>\n",
              "      <th>No. White Moves</th>\n",
              "      <th>No. Black Moves</th>\n",
              "      <th>White Avg. Score</th>\n",
              "      <th>Black Avg. Score</th>\n",
              "      <th>AverageElo</th>\n",
              "      <th>Rated Blitz game</th>\n",
              "      <th>Rated Bullet game</th>\n",
              "      <th>Rated Classical game</th>\n",
              "      <th>Rated Correspondence game</th>\n",
              "      <th>Rated Rapid game</th>\n",
              "      <th>Rated UltraBullet game</th>\n",
              "    </tr>\n",
              "  </thead>\n",
              "  <tbody>\n",
              "    <tr>\n",
              "      <th>count</th>\n",
              "      <td>118183</td>\n",
              "      <td>118183</td>\n",
              "      <td>118183</td>\n",
              "      <td>118183</td>\n",
              "      <td>118183</td>\n",
              "      <td>118183.000000</td>\n",
              "      <td>118183.000000</td>\n",
              "      <td>118183.000000</td>\n",
              "      <td>118183.000000</td>\n",
              "      <td>118183.000000</td>\n",
              "      <td>118183.000000</td>\n",
              "      <td>118183.000000</td>\n",
              "      <td>118183.000000</td>\n",
              "      <td>118183.000000</td>\n",
              "      <td>118183.000000</td>\n",
              "      <td>118183.000000</td>\n",
              "      <td>118183.000000</td>\n",
              "      <td>118183.000000</td>\n",
              "    </tr>\n",
              "    <tr>\n",
              "      <th>unique</th>\n",
              "      <td>2</td>\n",
              "      <td>2</td>\n",
              "      <td>2120</td>\n",
              "      <td>207</td>\n",
              "      <td>5</td>\n",
              "      <td>NaN</td>\n",
              "      <td>NaN</td>\n",
              "      <td>NaN</td>\n",
              "      <td>NaN</td>\n",
              "      <td>NaN</td>\n",
              "      <td>NaN</td>\n",
              "      <td>NaN</td>\n",
              "      <td>NaN</td>\n",
              "      <td>NaN</td>\n",
              "      <td>NaN</td>\n",
              "      <td>NaN</td>\n",
              "      <td>NaN</td>\n",
              "      <td>NaN</td>\n",
              "    </tr>\n",
              "    <tr>\n",
              "      <th>top</th>\n",
              "      <td>False</td>\n",
              "      <td>False</td>\n",
              "      <td>Modern Defense</td>\n",
              "      <td>60+0</td>\n",
              "      <td>Normal</td>\n",
              "      <td>NaN</td>\n",
              "      <td>NaN</td>\n",
              "      <td>NaN</td>\n",
              "      <td>NaN</td>\n",
              "      <td>NaN</td>\n",
              "      <td>NaN</td>\n",
              "      <td>NaN</td>\n",
              "      <td>NaN</td>\n",
              "      <td>NaN</td>\n",
              "      <td>NaN</td>\n",
              "      <td>NaN</td>\n",
              "      <td>NaN</td>\n",
              "      <td>NaN</td>\n",
              "    </tr>\n",
              "    <tr>\n",
              "      <th>freq</th>\n",
              "      <td>114039</td>\n",
              "      <td>63004</td>\n",
              "      <td>2293</td>\n",
              "      <td>32866</td>\n",
              "      <td>76876</td>\n",
              "      <td>NaN</td>\n",
              "      <td>NaN</td>\n",
              "      <td>NaN</td>\n",
              "      <td>NaN</td>\n",
              "      <td>NaN</td>\n",
              "      <td>NaN</td>\n",
              "      <td>NaN</td>\n",
              "      <td>NaN</td>\n",
              "      <td>NaN</td>\n",
              "      <td>NaN</td>\n",
              "      <td>NaN</td>\n",
              "      <td>NaN</td>\n",
              "      <td>NaN</td>\n",
              "    </tr>\n",
              "    <tr>\n",
              "      <th>mean</th>\n",
              "      <td>NaN</td>\n",
              "      <td>NaN</td>\n",
              "      <td>NaN</td>\n",
              "      <td>NaN</td>\n",
              "      <td>NaN</td>\n",
              "      <td>2193.042747</td>\n",
              "      <td>769.155124</td>\n",
              "      <td>32.917196</td>\n",
              "      <td>33.431830</td>\n",
              "      <td>74.996369</td>\n",
              "      <td>20.696504</td>\n",
              "      <td>1620.108628</td>\n",
              "      <td>0.474561</td>\n",
              "      <td>0.368987</td>\n",
              "      <td>0.031333</td>\n",
              "      <td>0.001921</td>\n",
              "      <td>0.114813</td>\n",
              "      <td>0.008385</td>\n",
              "    </tr>\n",
              "    <tr>\n",
              "      <th>std</th>\n",
              "      <td>NaN</td>\n",
              "      <td>NaN</td>\n",
              "      <td>NaN</td>\n",
              "      <td>NaN</td>\n",
              "      <td>NaN</td>\n",
              "      <td>17015.051619</td>\n",
              "      <td>17058.273541</td>\n",
              "      <td>15.050080</td>\n",
              "      <td>15.037783</td>\n",
              "      <td>416.753796</td>\n",
              "      <td>410.845156</td>\n",
              "      <td>328.023958</td>\n",
              "      <td>0.499355</td>\n",
              "      <td>0.482532</td>\n",
              "      <td>0.174216</td>\n",
              "      <td>0.043784</td>\n",
              "      <td>0.318798</td>\n",
              "      <td>0.091187</td>\n",
              "    </tr>\n",
              "    <tr>\n",
              "      <th>min</th>\n",
              "      <td>NaN</td>\n",
              "      <td>NaN</td>\n",
              "      <td>NaN</td>\n",
              "      <td>NaN</td>\n",
              "      <td>NaN</td>\n",
              "      <td>-157054.000000</td>\n",
              "      <td>-154670.000000</td>\n",
              "      <td>0.000000</td>\n",
              "      <td>0.000000</td>\n",
              "      <td>-2488.000000</td>\n",
              "      <td>-2549.740000</td>\n",
              "      <td>609.500000</td>\n",
              "      <td>0.000000</td>\n",
              "      <td>0.000000</td>\n",
              "      <td>0.000000</td>\n",
              "      <td>0.000000</td>\n",
              "      <td>0.000000</td>\n",
              "      <td>0.000000</td>\n",
              "    </tr>\n",
              "    <tr>\n",
              "      <th>25%</th>\n",
              "      <td>NaN</td>\n",
              "      <td>NaN</td>\n",
              "      <td>NaN</td>\n",
              "      <td>NaN</td>\n",
              "      <td>NaN</td>\n",
              "      <td>-4518.500000</td>\n",
              "      <td>-6052.000000</td>\n",
              "      <td>23.000000</td>\n",
              "      <td>23.000000</td>\n",
              "      <td>-154.660000</td>\n",
              "      <td>-209.500000</td>\n",
              "      <td>1385.500000</td>\n",
              "      <td>0.000000</td>\n",
              "      <td>0.000000</td>\n",
              "      <td>0.000000</td>\n",
              "      <td>0.000000</td>\n",
              "      <td>0.000000</td>\n",
              "      <td>0.000000</td>\n",
              "    </tr>\n",
              "    <tr>\n",
              "      <th>50%</th>\n",
              "      <td>NaN</td>\n",
              "      <td>NaN</td>\n",
              "      <td>NaN</td>\n",
              "      <td>NaN</td>\n",
              "      <td>NaN</td>\n",
              "      <td>1697.000000</td>\n",
              "      <td>327.000000</td>\n",
              "      <td>31.000000</td>\n",
              "      <td>32.000000</td>\n",
              "      <td>79.140000</td>\n",
              "      <td>16.000000</td>\n",
              "      <td>1624.000000</td>\n",
              "      <td>0.000000</td>\n",
              "      <td>0.000000</td>\n",
              "      <td>0.000000</td>\n",
              "      <td>0.000000</td>\n",
              "      <td>0.000000</td>\n",
              "      <td>0.000000</td>\n",
              "    </tr>\n",
              "    <tr>\n",
              "      <th>75%</th>\n",
              "      <td>NaN</td>\n",
              "      <td>NaN</td>\n",
              "      <td>NaN</td>\n",
              "      <td>NaN</td>\n",
              "      <td>NaN</td>\n",
              "      <td>9194.000000</td>\n",
              "      <td>7684.000000</td>\n",
              "      <td>42.000000</td>\n",
              "      <td>42.000000</td>\n",
              "      <td>316.160000</td>\n",
              "      <td>253.345000</td>\n",
              "      <td>1854.500000</td>\n",
              "      <td>1.000000</td>\n",
              "      <td>1.000000</td>\n",
              "      <td>0.000000</td>\n",
              "      <td>0.000000</td>\n",
              "      <td>0.000000</td>\n",
              "      <td>0.000000</td>\n",
              "    </tr>\n",
              "    <tr>\n",
              "      <th>max</th>\n",
              "      <td>NaN</td>\n",
              "      <td>NaN</td>\n",
              "      <td>NaN</td>\n",
              "      <td>NaN</td>\n",
              "      <td>NaN</td>\n",
              "      <td>143289.000000</td>\n",
              "      <td>176463.000000</td>\n",
              "      <td>130.000000</td>\n",
              "      <td>131.000000</td>\n",
              "      <td>2424.790000</td>\n",
              "      <td>3155.090000</td>\n",
              "      <td>2748.000000</td>\n",
              "      <td>1.000000</td>\n",
              "      <td>1.000000</td>\n",
              "      <td>1.000000</td>\n",
              "      <td>1.000000</td>\n",
              "      <td>1.000000</td>\n",
              "      <td>1.000000</td>\n",
              "    </tr>\n",
              "  </tbody>\n",
              "</table>\n",
              "</div>"
            ],
            "text/plain": [
              "       Is Draw Has Black Won  ... Rated Rapid game Rated UltraBullet game\n",
              "count   118183        118183  ...    118183.000000          118183.000000\n",
              "unique       2             2  ...              NaN                    NaN\n",
              "top      False         False  ...              NaN                    NaN\n",
              "freq    114039         63004  ...              NaN                    NaN\n",
              "mean       NaN           NaN  ...         0.114813               0.008385\n",
              "std        NaN           NaN  ...         0.318798               0.091187\n",
              "min        NaN           NaN  ...         0.000000               0.000000\n",
              "25%        NaN           NaN  ...         0.000000               0.000000\n",
              "50%        NaN           NaN  ...         0.000000               0.000000\n",
              "75%        NaN           NaN  ...         0.000000               0.000000\n",
              "max        NaN           NaN  ...         1.000000               1.000000\n",
              "\n",
              "[11 rows x 18 columns]"
            ]
          },
          "metadata": {
            "tags": []
          },
          "execution_count": 137
        }
      ]
    },
    {
      "cell_type": "code",
      "metadata": {
        "id": "bzxqghh7Z7c2",
        "colab_type": "code",
        "colab": {}
      },
      "source": [
        "#Drop time control since that information is anyways stored in the type of the game\n",
        "df = df.drop(\"Time Control\", axis = 1)"
      ],
      "execution_count": 0,
      "outputs": []
    },
    {
      "cell_type": "code",
      "metadata": {
        "id": "Yzkt8MBLjoRN",
        "colab_type": "code",
        "colab": {
          "base_uri": "https://localhost:8080/",
          "height": 479
        },
        "outputId": "3e91fb5a-9fa6-4a80-ba32-270dc8d28e2e"
      },
      "source": [
        "df.head()"
      ],
      "execution_count": 141,
      "outputs": [
        {
          "output_type": "execute_result",
          "data": {
            "text/html": [
              "<div>\n",
              "<style scoped>\n",
              "    .dataframe tbody tr th:only-of-type {\n",
              "        vertical-align: middle;\n",
              "    }\n",
              "\n",
              "    .dataframe tbody tr th {\n",
              "        vertical-align: top;\n",
              "    }\n",
              "\n",
              "    .dataframe thead th {\n",
              "        text-align: right;\n",
              "    }\n",
              "</style>\n",
              "<table border=\"1\" class=\"dataframe\">\n",
              "  <thead>\n",
              "    <tr style=\"text-align: right;\">\n",
              "      <th></th>\n",
              "      <th>Is Draw</th>\n",
              "      <th>Has Black Won</th>\n",
              "      <th>Opening</th>\n",
              "      <th>Termination</th>\n",
              "      <th>Total White Score</th>\n",
              "      <th>Total Black Score</th>\n",
              "      <th>No. White Moves</th>\n",
              "      <th>No. Black Moves</th>\n",
              "      <th>White Avg. Score</th>\n",
              "      <th>Black Avg. Score</th>\n",
              "      <th>AverageElo</th>\n",
              "      <th>Rated Blitz game</th>\n",
              "      <th>Rated Bullet game</th>\n",
              "      <th>Rated Classical game</th>\n",
              "      <th>Rated Correspondence game</th>\n",
              "      <th>Rated Rapid game</th>\n",
              "      <th>Rated UltraBullet game</th>\n",
              "    </tr>\n",
              "  </thead>\n",
              "  <tbody>\n",
              "    <tr>\n",
              "      <th>0</th>\n",
              "      <td>False</td>\n",
              "      <td>True</td>\n",
              "      <td>Scandinavian Defense</td>\n",
              "      <td>Normal</td>\n",
              "      <td>-5112</td>\n",
              "      <td>6476</td>\n",
              "      <td>15</td>\n",
              "      <td>15</td>\n",
              "      <td>-340.80</td>\n",
              "      <td>431.73</td>\n",
              "      <td>1404.0</td>\n",
              "      <td>0</td>\n",
              "      <td>1</td>\n",
              "      <td>0</td>\n",
              "      <td>0</td>\n",
              "      <td>0</td>\n",
              "      <td>0</td>\n",
              "    </tr>\n",
              "    <tr>\n",
              "      <th>1</th>\n",
              "      <td>False</td>\n",
              "      <td>False</td>\n",
              "      <td>Torre Attack #2</td>\n",
              "      <td>Normal</td>\n",
              "      <td>22197</td>\n",
              "      <td>-22367</td>\n",
              "      <td>33</td>\n",
              "      <td>34</td>\n",
              "      <td>672.64</td>\n",
              "      <td>-657.85</td>\n",
              "      <td>1995.0</td>\n",
              "      <td>0</td>\n",
              "      <td>1</td>\n",
              "      <td>0</td>\n",
              "      <td>0</td>\n",
              "      <td>0</td>\n",
              "      <td>0</td>\n",
              "    </tr>\n",
              "    <tr>\n",
              "      <th>2</th>\n",
              "      <td>False</td>\n",
              "      <td>False</td>\n",
              "      <td>English Opening: King's English Variation, Thr...</td>\n",
              "      <td>Normal</td>\n",
              "      <td>2244</td>\n",
              "      <td>-1124</td>\n",
              "      <td>18</td>\n",
              "      <td>19</td>\n",
              "      <td>124.67</td>\n",
              "      <td>-59.16</td>\n",
              "      <td>2114.0</td>\n",
              "      <td>0</td>\n",
              "      <td>1</td>\n",
              "      <td>0</td>\n",
              "      <td>0</td>\n",
              "      <td>0</td>\n",
              "      <td>0</td>\n",
              "    </tr>\n",
              "    <tr>\n",
              "      <th>3</th>\n",
              "      <td>False</td>\n",
              "      <td>False</td>\n",
              "      <td>English Opening: Anglo-Indian Defense</td>\n",
              "      <td>Normal</td>\n",
              "      <td>12049</td>\n",
              "      <td>-12040</td>\n",
              "      <td>25</td>\n",
              "      <td>26</td>\n",
              "      <td>481.96</td>\n",
              "      <td>-463.08</td>\n",
              "      <td>2069.0</td>\n",
              "      <td>0</td>\n",
              "      <td>1</td>\n",
              "      <td>0</td>\n",
              "      <td>0</td>\n",
              "      <td>0</td>\n",
              "      <td>0</td>\n",
              "    </tr>\n",
              "    <tr>\n",
              "      <th>4</th>\n",
              "      <td>False</td>\n",
              "      <td>True</td>\n",
              "      <td>Sicilian Defense: French Variation</td>\n",
              "      <td>Normal</td>\n",
              "      <td>-2945</td>\n",
              "      <td>4591</td>\n",
              "      <td>23</td>\n",
              "      <td>23</td>\n",
              "      <td>-128.04</td>\n",
              "      <td>199.61</td>\n",
              "      <td>1636.5</td>\n",
              "      <td>0</td>\n",
              "      <td>1</td>\n",
              "      <td>0</td>\n",
              "      <td>0</td>\n",
              "      <td>0</td>\n",
              "      <td>0</td>\n",
              "    </tr>\n",
              "  </tbody>\n",
              "</table>\n",
              "</div>"
            ],
            "text/plain": [
              "   Is Draw  Has Black Won  ... Rated Rapid game Rated UltraBullet game\n",
              "0    False           True  ...                0                      0\n",
              "1    False          False  ...                0                      0\n",
              "2    False          False  ...                0                      0\n",
              "3    False          False  ...                0                      0\n",
              "4    False           True  ...                0                      0\n",
              "\n",
              "[5 rows x 17 columns]"
            ]
          },
          "metadata": {
            "tags": []
          },
          "execution_count": 141
        }
      ]
    },
    {
      "cell_type": "code",
      "metadata": {
        "id": "GT1KHkypj3bF",
        "colab_type": "code",
        "colab": {
          "base_uri": "https://localhost:8080/",
          "height": 221
        },
        "outputId": "4d09b1ad-adda-492e-ea18-5b2aa7a12b9b"
      },
      "source": [
        "#Another interesting plot would be the opening employed by a player grouped by the elo\n",
        "df[\"Opening\"].value_counts()\n",
        "#The Opening column is huge right now. Aaah"
      ],
      "execution_count": 142,
      "outputs": [
        {
          "output_type": "execute_result",
          "data": {
            "text/plain": [
              "Modern Defense                                         2293\n",
              "Van't Kruijs Opening                                   2179\n",
              "Scandinavian Defense: Mieses-Kotroc Variation          2167\n",
              "Sicilian Defense                                       1710\n",
              "Queen's Pawn Game: Mason Attack                        1687\n",
              "                                                       ... \n",
              "Neo-Grünfeld Defense: Delayed Exchange Variation #2       1\n",
              "King's Gambit Accepted, Dodo Variation                    1\n",
              "Ponziani Opening: Vukovic Gambit                          1\n",
              "King's Gambit Accepted, Traditional Variation             1\n",
              "Alekhine Defense: Modern Variation, Panov Variation       1\n",
              "Name: Opening, Length: 2120, dtype: int64"
            ]
          },
          "metadata": {
            "tags": []
          },
          "execution_count": 142
        }
      ]
    },
    {
      "cell_type": "code",
      "metadata": {
        "id": "gh-gugqqkBQq",
        "colab_type": "code",
        "colab": {}
      },
      "source": [
        "one_hot = pd.get_dummies(df[\"Termination\"])\n",
        "#Validating the abandoned vs time forfiet. \n"
      ],
      "execution_count": 0,
      "outputs": []
    },
    {
      "cell_type": "code",
      "metadata": {
        "id": "XW8OrAvVkM04",
        "colab_type": "code",
        "colab": {
          "base_uri": "https://localhost:8080/",
          "height": 915
        },
        "outputId": "55e7398a-6f45-4441-dda3-f3ebb0201e69"
      },
      "source": [
        "df = df.drop(\"Termination\", axis=1)\n",
        "df.join(one_hot)"
      ],
      "execution_count": 146,
      "outputs": [
        {
          "output_type": "execute_result",
          "data": {
            "text/html": [
              "<div>\n",
              "<style scoped>\n",
              "    .dataframe tbody tr th:only-of-type {\n",
              "        vertical-align: middle;\n",
              "    }\n",
              "\n",
              "    .dataframe tbody tr th {\n",
              "        vertical-align: top;\n",
              "    }\n",
              "\n",
              "    .dataframe thead th {\n",
              "        text-align: right;\n",
              "    }\n",
              "</style>\n",
              "<table border=\"1\" class=\"dataframe\">\n",
              "  <thead>\n",
              "    <tr style=\"text-align: right;\">\n",
              "      <th></th>\n",
              "      <th>Is Draw</th>\n",
              "      <th>Has Black Won</th>\n",
              "      <th>Opening</th>\n",
              "      <th>Total White Score</th>\n",
              "      <th>Total Black Score</th>\n",
              "      <th>No. White Moves</th>\n",
              "      <th>No. Black Moves</th>\n",
              "      <th>White Avg. Score</th>\n",
              "      <th>Black Avg. Score</th>\n",
              "      <th>AverageElo</th>\n",
              "      <th>Rated Blitz game</th>\n",
              "      <th>Rated Bullet game</th>\n",
              "      <th>Rated Classical game</th>\n",
              "      <th>Rated Correspondence game</th>\n",
              "      <th>Rated Rapid game</th>\n",
              "      <th>Rated UltraBullet game</th>\n",
              "      <th>Abandoned</th>\n",
              "      <th>Normal</th>\n",
              "      <th>Rules infraction</th>\n",
              "      <th>Time forfeit</th>\n",
              "      <th>Unterminated</th>\n",
              "    </tr>\n",
              "  </thead>\n",
              "  <tbody>\n",
              "    <tr>\n",
              "      <th>0</th>\n",
              "      <td>False</td>\n",
              "      <td>True</td>\n",
              "      <td>Scandinavian Defense</td>\n",
              "      <td>-5112</td>\n",
              "      <td>6476</td>\n",
              "      <td>15</td>\n",
              "      <td>15</td>\n",
              "      <td>-340.80</td>\n",
              "      <td>431.73</td>\n",
              "      <td>1404.0</td>\n",
              "      <td>0</td>\n",
              "      <td>1</td>\n",
              "      <td>0</td>\n",
              "      <td>0</td>\n",
              "      <td>0</td>\n",
              "      <td>0</td>\n",
              "      <td>0</td>\n",
              "      <td>1</td>\n",
              "      <td>0</td>\n",
              "      <td>0</td>\n",
              "      <td>0</td>\n",
              "    </tr>\n",
              "    <tr>\n",
              "      <th>1</th>\n",
              "      <td>False</td>\n",
              "      <td>False</td>\n",
              "      <td>Torre Attack #2</td>\n",
              "      <td>22197</td>\n",
              "      <td>-22367</td>\n",
              "      <td>33</td>\n",
              "      <td>34</td>\n",
              "      <td>672.64</td>\n",
              "      <td>-657.85</td>\n",
              "      <td>1995.0</td>\n",
              "      <td>0</td>\n",
              "      <td>1</td>\n",
              "      <td>0</td>\n",
              "      <td>0</td>\n",
              "      <td>0</td>\n",
              "      <td>0</td>\n",
              "      <td>0</td>\n",
              "      <td>1</td>\n",
              "      <td>0</td>\n",
              "      <td>0</td>\n",
              "      <td>0</td>\n",
              "    </tr>\n",
              "    <tr>\n",
              "      <th>2</th>\n",
              "      <td>False</td>\n",
              "      <td>False</td>\n",
              "      <td>English Opening: King's English Variation, Thr...</td>\n",
              "      <td>2244</td>\n",
              "      <td>-1124</td>\n",
              "      <td>18</td>\n",
              "      <td>19</td>\n",
              "      <td>124.67</td>\n",
              "      <td>-59.16</td>\n",
              "      <td>2114.0</td>\n",
              "      <td>0</td>\n",
              "      <td>1</td>\n",
              "      <td>0</td>\n",
              "      <td>0</td>\n",
              "      <td>0</td>\n",
              "      <td>0</td>\n",
              "      <td>0</td>\n",
              "      <td>1</td>\n",
              "      <td>0</td>\n",
              "      <td>0</td>\n",
              "      <td>0</td>\n",
              "    </tr>\n",
              "    <tr>\n",
              "      <th>3</th>\n",
              "      <td>False</td>\n",
              "      <td>False</td>\n",
              "      <td>English Opening: Anglo-Indian Defense</td>\n",
              "      <td>12049</td>\n",
              "      <td>-12040</td>\n",
              "      <td>25</td>\n",
              "      <td>26</td>\n",
              "      <td>481.96</td>\n",
              "      <td>-463.08</td>\n",
              "      <td>2069.0</td>\n",
              "      <td>0</td>\n",
              "      <td>1</td>\n",
              "      <td>0</td>\n",
              "      <td>0</td>\n",
              "      <td>0</td>\n",
              "      <td>0</td>\n",
              "      <td>0</td>\n",
              "      <td>1</td>\n",
              "      <td>0</td>\n",
              "      <td>0</td>\n",
              "      <td>0</td>\n",
              "    </tr>\n",
              "    <tr>\n",
              "      <th>4</th>\n",
              "      <td>False</td>\n",
              "      <td>True</td>\n",
              "      <td>Sicilian Defense: French Variation</td>\n",
              "      <td>-2945</td>\n",
              "      <td>4591</td>\n",
              "      <td>23</td>\n",
              "      <td>23</td>\n",
              "      <td>-128.04</td>\n",
              "      <td>199.61</td>\n",
              "      <td>1636.5</td>\n",
              "      <td>0</td>\n",
              "      <td>1</td>\n",
              "      <td>0</td>\n",
              "      <td>0</td>\n",
              "      <td>0</td>\n",
              "      <td>0</td>\n",
              "      <td>0</td>\n",
              "      <td>1</td>\n",
              "      <td>0</td>\n",
              "      <td>0</td>\n",
              "      <td>0</td>\n",
              "    </tr>\n",
              "    <tr>\n",
              "      <th>...</th>\n",
              "      <td>...</td>\n",
              "      <td>...</td>\n",
              "      <td>...</td>\n",
              "      <td>...</td>\n",
              "      <td>...</td>\n",
              "      <td>...</td>\n",
              "      <td>...</td>\n",
              "      <td>...</td>\n",
              "      <td>...</td>\n",
              "      <td>...</td>\n",
              "      <td>...</td>\n",
              "      <td>...</td>\n",
              "      <td>...</td>\n",
              "      <td>...</td>\n",
              "      <td>...</td>\n",
              "      <td>...</td>\n",
              "      <td>...</td>\n",
              "      <td>...</td>\n",
              "      <td>...</td>\n",
              "      <td>...</td>\n",
              "      <td>...</td>\n",
              "    </tr>\n",
              "    <tr>\n",
              "      <th>118180</th>\n",
              "      <td>False</td>\n",
              "      <td>False</td>\n",
              "      <td>Queen's Pawn Game: Chigorin Variation</td>\n",
              "      <td>13509</td>\n",
              "      <td>-8560</td>\n",
              "      <td>31</td>\n",
              "      <td>32</td>\n",
              "      <td>435.77</td>\n",
              "      <td>-267.50</td>\n",
              "      <td>1637.5</td>\n",
              "      <td>1</td>\n",
              "      <td>0</td>\n",
              "      <td>0</td>\n",
              "      <td>0</td>\n",
              "      <td>0</td>\n",
              "      <td>0</td>\n",
              "      <td>0</td>\n",
              "      <td>0</td>\n",
              "      <td>0</td>\n",
              "      <td>1</td>\n",
              "      <td>0</td>\n",
              "    </tr>\n",
              "    <tr>\n",
              "      <th>118181</th>\n",
              "      <td>False</td>\n",
              "      <td>True</td>\n",
              "      <td>King's Knight Opening: Normal Variation</td>\n",
              "      <td>-31791</td>\n",
              "      <td>27056</td>\n",
              "      <td>46</td>\n",
              "      <td>46</td>\n",
              "      <td>-691.11</td>\n",
              "      <td>588.17</td>\n",
              "      <td>1433.0</td>\n",
              "      <td>0</td>\n",
              "      <td>1</td>\n",
              "      <td>0</td>\n",
              "      <td>0</td>\n",
              "      <td>0</td>\n",
              "      <td>0</td>\n",
              "      <td>0</td>\n",
              "      <td>0</td>\n",
              "      <td>0</td>\n",
              "      <td>1</td>\n",
              "      <td>0</td>\n",
              "    </tr>\n",
              "    <tr>\n",
              "      <th>118182</th>\n",
              "      <td>False</td>\n",
              "      <td>False</td>\n",
              "      <td>Zukertort Opening: Tennison Gambit</td>\n",
              "      <td>43654</td>\n",
              "      <td>-35248</td>\n",
              "      <td>47</td>\n",
              "      <td>48</td>\n",
              "      <td>928.81</td>\n",
              "      <td>-734.33</td>\n",
              "      <td>1999.0</td>\n",
              "      <td>1</td>\n",
              "      <td>0</td>\n",
              "      <td>0</td>\n",
              "      <td>0</td>\n",
              "      <td>0</td>\n",
              "      <td>0</td>\n",
              "      <td>0</td>\n",
              "      <td>1</td>\n",
              "      <td>0</td>\n",
              "      <td>0</td>\n",
              "      <td>0</td>\n",
              "    </tr>\n",
              "    <tr>\n",
              "      <th>118183</th>\n",
              "      <td>False</td>\n",
              "      <td>False</td>\n",
              "      <td>King's Indian Defense</td>\n",
              "      <td>1841</td>\n",
              "      <td>951</td>\n",
              "      <td>35</td>\n",
              "      <td>36</td>\n",
              "      <td>52.60</td>\n",
              "      <td>26.42</td>\n",
              "      <td>2073.0</td>\n",
              "      <td>0</td>\n",
              "      <td>1</td>\n",
              "      <td>0</td>\n",
              "      <td>0</td>\n",
              "      <td>0</td>\n",
              "      <td>0</td>\n",
              "      <td>0</td>\n",
              "      <td>1</td>\n",
              "      <td>0</td>\n",
              "      <td>0</td>\n",
              "      <td>0</td>\n",
              "    </tr>\n",
              "    <tr>\n",
              "      <th>118184</th>\n",
              "      <td>False</td>\n",
              "      <td>False</td>\n",
              "      <td>French Defense: Advance Variation #2</td>\n",
              "      <td>-16063</td>\n",
              "      <td>21816</td>\n",
              "      <td>34</td>\n",
              "      <td>35</td>\n",
              "      <td>-472.44</td>\n",
              "      <td>623.31</td>\n",
              "      <td>1115.5</td>\n",
              "      <td>0</td>\n",
              "      <td>1</td>\n",
              "      <td>0</td>\n",
              "      <td>0</td>\n",
              "      <td>0</td>\n",
              "      <td>0</td>\n",
              "      <td>0</td>\n",
              "      <td>0</td>\n",
              "      <td>0</td>\n",
              "      <td>1</td>\n",
              "      <td>0</td>\n",
              "    </tr>\n",
              "  </tbody>\n",
              "</table>\n",
              "<p>118183 rows × 21 columns</p>\n",
              "</div>"
            ],
            "text/plain": [
              "        Is Draw  Has Black Won  ... Time forfeit  Unterminated\n",
              "0         False           True  ...            0             0\n",
              "1         False          False  ...            0             0\n",
              "2         False          False  ...            0             0\n",
              "3         False          False  ...            0             0\n",
              "4         False           True  ...            0             0\n",
              "...         ...            ...  ...          ...           ...\n",
              "118180    False          False  ...            1             0\n",
              "118181    False           True  ...            1             0\n",
              "118182    False          False  ...            0             0\n",
              "118183    False          False  ...            0             0\n",
              "118184    False          False  ...            1             0\n",
              "\n",
              "[118183 rows x 21 columns]"
            ]
          },
          "metadata": {
            "tags": []
          },
          "execution_count": 146
        }
      ]
    },
    {
      "cell_type": "code",
      "metadata": {
        "id": "kQviGvqBklCL",
        "colab_type": "code",
        "colab": {}
      },
      "source": [
        "wins_one_hto = pd.get_dummies(df[\"Has Black Won\"])"
      ],
      "execution_count": 0,
      "outputs": []
    },
    {
      "cell_type": "code",
      "metadata": {
        "id": "OfsuawJCk4a2",
        "colab_type": "code",
        "colab": {}
      },
      "source": [
        "black_won = df[\"Has Black Won\"].astype(int)"
      ],
      "execution_count": 0,
      "outputs": []
    },
    {
      "cell_type": "code",
      "metadata": {
        "id": "v-_yXEY_k5ss",
        "colab_type": "code",
        "colab": {}
      },
      "source": [
        "df[\"BlackWin\"] = black_won"
      ],
      "execution_count": 0,
      "outputs": []
    },
    {
      "cell_type": "code",
      "metadata": {
        "id": "UHq9Dcb6lYl5",
        "colab_type": "code",
        "colab": {}
      },
      "source": [
        "df = df.drop(\"Has Black Won\", axis=1)"
      ],
      "execution_count": 0,
      "outputs": []
    },
    {
      "cell_type": "code",
      "metadata": {
        "id": "B1sZ9tcAls3j",
        "colab_type": "code",
        "colab": {}
      },
      "source": [
        "draw = df[\"Is Draw\"].astype(int)"
      ],
      "execution_count": 0,
      "outputs": []
    },
    {
      "cell_type": "code",
      "metadata": {
        "id": "Vz70DJPultNC",
        "colab_type": "code",
        "colab": {}
      },
      "source": [
        "df[\"Draw\"] = draw"
      ],
      "execution_count": 0,
      "outputs": []
    },
    {
      "cell_type": "code",
      "metadata": {
        "id": "fm0SlbDnl5tt",
        "colab_type": "code",
        "colab": {}
      },
      "source": [
        "df = df.drop(\"Is Draw\", axis=1)"
      ],
      "execution_count": 0,
      "outputs": []
    },
    {
      "cell_type": "code",
      "metadata": {
        "id": "234z_K3Ol8p1",
        "colab_type": "code",
        "colab": {}
      },
      "source": [
        "tt = df.drop(\"Opening\", axis=1)"
      ],
      "execution_count": 0,
      "outputs": []
    },
    {
      "cell_type": "code",
      "metadata": {
        "id": "s5S0LiYil_mF",
        "colab_type": "code",
        "colab": {
          "base_uri": "https://localhost:8080/",
          "height": 473
        },
        "outputId": "36fa1c14-0cc8-4544-82dd-7e0073ee56c9"
      },
      "source": [
        "tt"
      ],
      "execution_count": 166,
      "outputs": [
        {
          "output_type": "execute_result",
          "data": {
            "text/html": [
              "<div>\n",
              "<style scoped>\n",
              "    .dataframe tbody tr th:only-of-type {\n",
              "        vertical-align: middle;\n",
              "    }\n",
              "\n",
              "    .dataframe tbody tr th {\n",
              "        vertical-align: top;\n",
              "    }\n",
              "\n",
              "    .dataframe thead th {\n",
              "        text-align: right;\n",
              "    }\n",
              "</style>\n",
              "<table border=\"1\" class=\"dataframe\">\n",
              "  <thead>\n",
              "    <tr style=\"text-align: right;\">\n",
              "      <th></th>\n",
              "      <th>Total White Score</th>\n",
              "      <th>Total Black Score</th>\n",
              "      <th>No. White Moves</th>\n",
              "      <th>No. Black Moves</th>\n",
              "      <th>White Avg. Score</th>\n",
              "      <th>Black Avg. Score</th>\n",
              "      <th>AverageElo</th>\n",
              "      <th>Rated Blitz game</th>\n",
              "      <th>Rated Bullet game</th>\n",
              "      <th>Rated Classical game</th>\n",
              "      <th>Rated Correspondence game</th>\n",
              "      <th>Rated Rapid game</th>\n",
              "      <th>Rated UltraBullet game</th>\n",
              "      <th>BlackWin</th>\n",
              "      <th>Draw</th>\n",
              "    </tr>\n",
              "  </thead>\n",
              "  <tbody>\n",
              "    <tr>\n",
              "      <th>0</th>\n",
              "      <td>-5112</td>\n",
              "      <td>6476</td>\n",
              "      <td>15</td>\n",
              "      <td>15</td>\n",
              "      <td>-340.80</td>\n",
              "      <td>431.73</td>\n",
              "      <td>1404.0</td>\n",
              "      <td>0</td>\n",
              "      <td>1</td>\n",
              "      <td>0</td>\n",
              "      <td>0</td>\n",
              "      <td>0</td>\n",
              "      <td>0</td>\n",
              "      <td>1</td>\n",
              "      <td>0</td>\n",
              "    </tr>\n",
              "    <tr>\n",
              "      <th>1</th>\n",
              "      <td>22197</td>\n",
              "      <td>-22367</td>\n",
              "      <td>33</td>\n",
              "      <td>34</td>\n",
              "      <td>672.64</td>\n",
              "      <td>-657.85</td>\n",
              "      <td>1995.0</td>\n",
              "      <td>0</td>\n",
              "      <td>1</td>\n",
              "      <td>0</td>\n",
              "      <td>0</td>\n",
              "      <td>0</td>\n",
              "      <td>0</td>\n",
              "      <td>0</td>\n",
              "      <td>0</td>\n",
              "    </tr>\n",
              "    <tr>\n",
              "      <th>2</th>\n",
              "      <td>2244</td>\n",
              "      <td>-1124</td>\n",
              "      <td>18</td>\n",
              "      <td>19</td>\n",
              "      <td>124.67</td>\n",
              "      <td>-59.16</td>\n",
              "      <td>2114.0</td>\n",
              "      <td>0</td>\n",
              "      <td>1</td>\n",
              "      <td>0</td>\n",
              "      <td>0</td>\n",
              "      <td>0</td>\n",
              "      <td>0</td>\n",
              "      <td>0</td>\n",
              "      <td>0</td>\n",
              "    </tr>\n",
              "    <tr>\n",
              "      <th>3</th>\n",
              "      <td>12049</td>\n",
              "      <td>-12040</td>\n",
              "      <td>25</td>\n",
              "      <td>26</td>\n",
              "      <td>481.96</td>\n",
              "      <td>-463.08</td>\n",
              "      <td>2069.0</td>\n",
              "      <td>0</td>\n",
              "      <td>1</td>\n",
              "      <td>0</td>\n",
              "      <td>0</td>\n",
              "      <td>0</td>\n",
              "      <td>0</td>\n",
              "      <td>0</td>\n",
              "      <td>0</td>\n",
              "    </tr>\n",
              "    <tr>\n",
              "      <th>4</th>\n",
              "      <td>-2945</td>\n",
              "      <td>4591</td>\n",
              "      <td>23</td>\n",
              "      <td>23</td>\n",
              "      <td>-128.04</td>\n",
              "      <td>199.61</td>\n",
              "      <td>1636.5</td>\n",
              "      <td>0</td>\n",
              "      <td>1</td>\n",
              "      <td>0</td>\n",
              "      <td>0</td>\n",
              "      <td>0</td>\n",
              "      <td>0</td>\n",
              "      <td>1</td>\n",
              "      <td>0</td>\n",
              "    </tr>\n",
              "    <tr>\n",
              "      <th>...</th>\n",
              "      <td>...</td>\n",
              "      <td>...</td>\n",
              "      <td>...</td>\n",
              "      <td>...</td>\n",
              "      <td>...</td>\n",
              "      <td>...</td>\n",
              "      <td>...</td>\n",
              "      <td>...</td>\n",
              "      <td>...</td>\n",
              "      <td>...</td>\n",
              "      <td>...</td>\n",
              "      <td>...</td>\n",
              "      <td>...</td>\n",
              "      <td>...</td>\n",
              "      <td>...</td>\n",
              "    </tr>\n",
              "    <tr>\n",
              "      <th>118180</th>\n",
              "      <td>13509</td>\n",
              "      <td>-8560</td>\n",
              "      <td>31</td>\n",
              "      <td>32</td>\n",
              "      <td>435.77</td>\n",
              "      <td>-267.50</td>\n",
              "      <td>1637.5</td>\n",
              "      <td>1</td>\n",
              "      <td>0</td>\n",
              "      <td>0</td>\n",
              "      <td>0</td>\n",
              "      <td>0</td>\n",
              "      <td>0</td>\n",
              "      <td>0</td>\n",
              "      <td>0</td>\n",
              "    </tr>\n",
              "    <tr>\n",
              "      <th>118181</th>\n",
              "      <td>-31791</td>\n",
              "      <td>27056</td>\n",
              "      <td>46</td>\n",
              "      <td>46</td>\n",
              "      <td>-691.11</td>\n",
              "      <td>588.17</td>\n",
              "      <td>1433.0</td>\n",
              "      <td>0</td>\n",
              "      <td>1</td>\n",
              "      <td>0</td>\n",
              "      <td>0</td>\n",
              "      <td>0</td>\n",
              "      <td>0</td>\n",
              "      <td>1</td>\n",
              "      <td>0</td>\n",
              "    </tr>\n",
              "    <tr>\n",
              "      <th>118182</th>\n",
              "      <td>43654</td>\n",
              "      <td>-35248</td>\n",
              "      <td>47</td>\n",
              "      <td>48</td>\n",
              "      <td>928.81</td>\n",
              "      <td>-734.33</td>\n",
              "      <td>1999.0</td>\n",
              "      <td>1</td>\n",
              "      <td>0</td>\n",
              "      <td>0</td>\n",
              "      <td>0</td>\n",
              "      <td>0</td>\n",
              "      <td>0</td>\n",
              "      <td>0</td>\n",
              "      <td>0</td>\n",
              "    </tr>\n",
              "    <tr>\n",
              "      <th>118183</th>\n",
              "      <td>1841</td>\n",
              "      <td>951</td>\n",
              "      <td>35</td>\n",
              "      <td>36</td>\n",
              "      <td>52.60</td>\n",
              "      <td>26.42</td>\n",
              "      <td>2073.0</td>\n",
              "      <td>0</td>\n",
              "      <td>1</td>\n",
              "      <td>0</td>\n",
              "      <td>0</td>\n",
              "      <td>0</td>\n",
              "      <td>0</td>\n",
              "      <td>0</td>\n",
              "      <td>0</td>\n",
              "    </tr>\n",
              "    <tr>\n",
              "      <th>118184</th>\n",
              "      <td>-16063</td>\n",
              "      <td>21816</td>\n",
              "      <td>34</td>\n",
              "      <td>35</td>\n",
              "      <td>-472.44</td>\n",
              "      <td>623.31</td>\n",
              "      <td>1115.5</td>\n",
              "      <td>0</td>\n",
              "      <td>1</td>\n",
              "      <td>0</td>\n",
              "      <td>0</td>\n",
              "      <td>0</td>\n",
              "      <td>0</td>\n",
              "      <td>0</td>\n",
              "      <td>0</td>\n",
              "    </tr>\n",
              "  </tbody>\n",
              "</table>\n",
              "<p>118183 rows × 15 columns</p>\n",
              "</div>"
            ],
            "text/plain": [
              "        Total White Score  Total Black Score  ...  BlackWin  Draw\n",
              "0                   -5112               6476  ...         1     0\n",
              "1                   22197             -22367  ...         0     0\n",
              "2                    2244              -1124  ...         0     0\n",
              "3                   12049             -12040  ...         0     0\n",
              "4                   -2945               4591  ...         1     0\n",
              "...                   ...                ...  ...       ...   ...\n",
              "118180              13509              -8560  ...         0     0\n",
              "118181             -31791              27056  ...         1     0\n",
              "118182              43654             -35248  ...         0     0\n",
              "118183               1841                951  ...         0     0\n",
              "118184             -16063              21816  ...         0     0\n",
              "\n",
              "[118183 rows x 15 columns]"
            ]
          },
          "metadata": {
            "tags": []
          },
          "execution_count": 166
        }
      ]
    },
    {
      "cell_type": "code",
      "metadata": {
        "id": "gKS135__mGik",
        "colab_type": "code",
        "colab": {}
      },
      "source": [
        "y = tt[\"AverageElo\"]\n",
        "x = tt.drop(\"AverageElo\", axis = 1)"
      ],
      "execution_count": 0,
      "outputs": []
    },
    {
      "cell_type": "code",
      "metadata": {
        "id": "-gvJ4v_8maB4",
        "colab_type": "code",
        "colab": {}
      },
      "source": [
        "X_train, X_test, y_train, y_test = train_test_split(x, y, test_size=0.33, random_state=42)"
      ],
      "execution_count": 0,
      "outputs": []
    },
    {
      "cell_type": "code",
      "metadata": {
        "id": "Ho8V0XDnmd9O",
        "colab_type": "code",
        "colab": {
          "base_uri": "https://localhost:8080/",
          "height": 473
        },
        "outputId": "f221f111-8a2b-464c-ccfe-4c614e822e19"
      },
      "source": [
        "#linear regression\n",
        "X_train"
      ],
      "execution_count": 176,
      "outputs": [
        {
          "output_type": "execute_result",
          "data": {
            "text/html": [
              "<div>\n",
              "<style scoped>\n",
              "    .dataframe tbody tr th:only-of-type {\n",
              "        vertical-align: middle;\n",
              "    }\n",
              "\n",
              "    .dataframe tbody tr th {\n",
              "        vertical-align: top;\n",
              "    }\n",
              "\n",
              "    .dataframe thead th {\n",
              "        text-align: right;\n",
              "    }\n",
              "</style>\n",
              "<table border=\"1\" class=\"dataframe\">\n",
              "  <thead>\n",
              "    <tr style=\"text-align: right;\">\n",
              "      <th></th>\n",
              "      <th>Total White Score</th>\n",
              "      <th>Total Black Score</th>\n",
              "      <th>No. White Moves</th>\n",
              "      <th>No. Black Moves</th>\n",
              "      <th>White Avg. Score</th>\n",
              "      <th>Black Avg. Score</th>\n",
              "      <th>Rated Blitz game</th>\n",
              "      <th>Rated Bullet game</th>\n",
              "      <th>Rated Classical game</th>\n",
              "      <th>Rated Correspondence game</th>\n",
              "      <th>Rated Rapid game</th>\n",
              "      <th>Rated UltraBullet game</th>\n",
              "      <th>BlackWin</th>\n",
              "      <th>Draw</th>\n",
              "    </tr>\n",
              "  </thead>\n",
              "  <tbody>\n",
              "    <tr>\n",
              "      <th>14034</th>\n",
              "      <td>58085</td>\n",
              "      <td>-54984</td>\n",
              "      <td>48</td>\n",
              "      <td>48</td>\n",
              "      <td>1210.10</td>\n",
              "      <td>-1145.50</td>\n",
              "      <td>0</td>\n",
              "      <td>1</td>\n",
              "      <td>0</td>\n",
              "      <td>0</td>\n",
              "      <td>0</td>\n",
              "      <td>0</td>\n",
              "      <td>0</td>\n",
              "      <td>1</td>\n",
              "    </tr>\n",
              "    <tr>\n",
              "      <th>51783</th>\n",
              "      <td>-6775</td>\n",
              "      <td>9345</td>\n",
              "      <td>35</td>\n",
              "      <td>35</td>\n",
              "      <td>-193.57</td>\n",
              "      <td>267.00</td>\n",
              "      <td>1</td>\n",
              "      <td>0</td>\n",
              "      <td>0</td>\n",
              "      <td>0</td>\n",
              "      <td>0</td>\n",
              "      <td>0</td>\n",
              "      <td>1</td>\n",
              "      <td>0</td>\n",
              "    </tr>\n",
              "    <tr>\n",
              "      <th>84437</th>\n",
              "      <td>-7986</td>\n",
              "      <td>11156</td>\n",
              "      <td>30</td>\n",
              "      <td>31</td>\n",
              "      <td>-266.20</td>\n",
              "      <td>359.87</td>\n",
              "      <td>1</td>\n",
              "      <td>0</td>\n",
              "      <td>0</td>\n",
              "      <td>0</td>\n",
              "      <td>0</td>\n",
              "      <td>0</td>\n",
              "      <td>0</td>\n",
              "      <td>0</td>\n",
              "    </tr>\n",
              "    <tr>\n",
              "      <th>89683</th>\n",
              "      <td>2171</td>\n",
              "      <td>-860</td>\n",
              "      <td>20</td>\n",
              "      <td>21</td>\n",
              "      <td>108.55</td>\n",
              "      <td>-40.95</td>\n",
              "      <td>1</td>\n",
              "      <td>0</td>\n",
              "      <td>0</td>\n",
              "      <td>0</td>\n",
              "      <td>0</td>\n",
              "      <td>0</td>\n",
              "      <td>0</td>\n",
              "      <td>0</td>\n",
              "    </tr>\n",
              "    <tr>\n",
              "      <th>88983</th>\n",
              "      <td>-9022</td>\n",
              "      <td>17107</td>\n",
              "      <td>51</td>\n",
              "      <td>51</td>\n",
              "      <td>-176.90</td>\n",
              "      <td>335.43</td>\n",
              "      <td>1</td>\n",
              "      <td>0</td>\n",
              "      <td>0</td>\n",
              "      <td>0</td>\n",
              "      <td>0</td>\n",
              "      <td>0</td>\n",
              "      <td>1</td>\n",
              "      <td>0</td>\n",
              "    </tr>\n",
              "    <tr>\n",
              "      <th>...</th>\n",
              "      <td>...</td>\n",
              "      <td>...</td>\n",
              "      <td>...</td>\n",
              "      <td>...</td>\n",
              "      <td>...</td>\n",
              "      <td>...</td>\n",
              "      <td>...</td>\n",
              "      <td>...</td>\n",
              "      <td>...</td>\n",
              "      <td>...</td>\n",
              "      <td>...</td>\n",
              "      <td>...</td>\n",
              "      <td>...</td>\n",
              "      <td>...</td>\n",
              "    </tr>\n",
              "    <tr>\n",
              "      <th>76822</th>\n",
              "      <td>3221</td>\n",
              "      <td>98</td>\n",
              "      <td>33</td>\n",
              "      <td>33</td>\n",
              "      <td>97.61</td>\n",
              "      <td>2.97</td>\n",
              "      <td>1</td>\n",
              "      <td>0</td>\n",
              "      <td>0</td>\n",
              "      <td>0</td>\n",
              "      <td>0</td>\n",
              "      <td>0</td>\n",
              "      <td>1</td>\n",
              "      <td>0</td>\n",
              "    </tr>\n",
              "    <tr>\n",
              "      <th>110270</th>\n",
              "      <td>-3057</td>\n",
              "      <td>5735</td>\n",
              "      <td>24</td>\n",
              "      <td>25</td>\n",
              "      <td>-127.38</td>\n",
              "      <td>229.40</td>\n",
              "      <td>0</td>\n",
              "      <td>1</td>\n",
              "      <td>0</td>\n",
              "      <td>0</td>\n",
              "      <td>0</td>\n",
              "      <td>0</td>\n",
              "      <td>0</td>\n",
              "      <td>0</td>\n",
              "    </tr>\n",
              "    <tr>\n",
              "      <th>103696</th>\n",
              "      <td>-1271</td>\n",
              "      <td>5797</td>\n",
              "      <td>37</td>\n",
              "      <td>37</td>\n",
              "      <td>-34.35</td>\n",
              "      <td>156.68</td>\n",
              "      <td>0</td>\n",
              "      <td>1</td>\n",
              "      <td>0</td>\n",
              "      <td>0</td>\n",
              "      <td>0</td>\n",
              "      <td>0</td>\n",
              "      <td>1</td>\n",
              "      <td>0</td>\n",
              "    </tr>\n",
              "    <tr>\n",
              "      <th>860</th>\n",
              "      <td>-10395</td>\n",
              "      <td>16692</td>\n",
              "      <td>28</td>\n",
              "      <td>29</td>\n",
              "      <td>-371.25</td>\n",
              "      <td>575.59</td>\n",
              "      <td>0</td>\n",
              "      <td>1</td>\n",
              "      <td>0</td>\n",
              "      <td>0</td>\n",
              "      <td>0</td>\n",
              "      <td>0</td>\n",
              "      <td>0</td>\n",
              "      <td>0</td>\n",
              "    </tr>\n",
              "    <tr>\n",
              "      <th>15797</th>\n",
              "      <td>-925</td>\n",
              "      <td>1807</td>\n",
              "      <td>12</td>\n",
              "      <td>12</td>\n",
              "      <td>-77.08</td>\n",
              "      <td>150.58</td>\n",
              "      <td>0</td>\n",
              "      <td>1</td>\n",
              "      <td>0</td>\n",
              "      <td>0</td>\n",
              "      <td>0</td>\n",
              "      <td>0</td>\n",
              "      <td>1</td>\n",
              "      <td>0</td>\n",
              "    </tr>\n",
              "  </tbody>\n",
              "</table>\n",
              "<p>79182 rows × 14 columns</p>\n",
              "</div>"
            ],
            "text/plain": [
              "        Total White Score  Total Black Score  ...  BlackWin  Draw\n",
              "14034               58085             -54984  ...         0     1\n",
              "51783               -6775               9345  ...         1     0\n",
              "84437               -7986              11156  ...         0     0\n",
              "89683                2171               -860  ...         0     0\n",
              "88983               -9022              17107  ...         1     0\n",
              "...                   ...                ...  ...       ...   ...\n",
              "76822                3221                 98  ...         1     0\n",
              "110270              -3057               5735  ...         0     0\n",
              "103696              -1271               5797  ...         1     0\n",
              "860                -10395              16692  ...         0     0\n",
              "15797                -925               1807  ...         1     0\n",
              "\n",
              "[79182 rows x 14 columns]"
            ]
          },
          "metadata": {
            "tags": []
          },
          "execution_count": 176
        }
      ]
    },
    {
      "cell_type": "code",
      "metadata": {
        "id": "JWbB2AJHmjWW",
        "colab_type": "code",
        "colab": {}
      },
      "source": [
        "from sklearn.linear_model import LinearRegression"
      ],
      "execution_count": 0,
      "outputs": []
    },
    {
      "cell_type": "code",
      "metadata": {
        "id": "NT8P_2oDmzkh",
        "colab_type": "code",
        "colab": {}
      },
      "source": [
        "reg = LinearRegression()"
      ],
      "execution_count": 0,
      "outputs": []
    },
    {
      "cell_type": "code",
      "metadata": {
        "id": "hOT8IaSfm433",
        "colab_type": "code",
        "colab": {
          "base_uri": "https://localhost:8080/",
          "height": 34
        },
        "outputId": "9879b8ed-9e3a-4a47-9620-158b9981b5e2"
      },
      "source": [
        "#Recall?\n",
        "reg.fit(X_train, y_train)"
      ],
      "execution_count": 181,
      "outputs": [
        {
          "output_type": "execute_result",
          "data": {
            "text/plain": [
              "LinearRegression(copy_X=True, fit_intercept=True, n_jobs=None, normalize=False)"
            ]
          },
          "metadata": {
            "tags": []
          },
          "execution_count": 181
        }
      ]
    },
    {
      "cell_type": "code",
      "metadata": {
        "id": "LKZho1tAm85k",
        "colab_type": "code",
        "colab": {}
      },
      "source": [
        "y_predicted = reg.predict(X_test)"
      ],
      "execution_count": 0,
      "outputs": []
    },
    {
      "cell_type": "code",
      "metadata": {
        "id": "JiDNaHBgnRFs",
        "colab_type": "code",
        "colab": {}
      },
      "source": [
        "from sklearn.model_selection import cross_validate\n",
        "from sklearn.metrics import make_scorer\n",
        "from sklearn.metrics import confusion_matrix"
      ],
      "execution_count": 0,
      "outputs": []
    },
    {
      "cell_type": "code",
      "metadata": {
        "id": "QbuQNl1knlIV",
        "colab_type": "code",
        "colab": {}
      },
      "source": [
        "cv_results = cross_validate(reg, x, y, cv=3)"
      ],
      "execution_count": 0,
      "outputs": []
    },
    {
      "cell_type": "code",
      "metadata": {
        "id": "qc0k0iFDo1Dh",
        "colab_type": "code",
        "colab": {
          "base_uri": "https://localhost:8080/",
          "height": 34
        },
        "outputId": "bca021ee-4a2e-44bc-99f0-ee5c899b188d"
      },
      "source": [
        "sorted(cv_results.keys())\n"
      ],
      "execution_count": 194,
      "outputs": [
        {
          "output_type": "execute_result",
          "data": {
            "text/plain": [
              "['fit_time', 'score_time', 'test_score']"
            ]
          },
          "metadata": {
            "tags": []
          },
          "execution_count": 194
        }
      ]
    },
    {
      "cell_type": "code",
      "metadata": {
        "id": "SQFNv_xGp41s",
        "colab_type": "code",
        "colab": {
          "base_uri": "https://localhost:8080/",
          "height": 34
        },
        "outputId": "4515598d-39f6-4ade-b8d0-fa6e149d5c7f"
      },
      "source": [
        "#Low Accuracy\n",
        "cv_results[\"test_score\"]"
      ],
      "execution_count": 195,
      "outputs": [
        {
          "output_type": "execute_result",
          "data": {
            "text/plain": [
              "array([0.0845406 , 0.09299886, 0.08677993])"
            ]
          },
          "metadata": {
            "tags": []
          },
          "execution_count": 195
        }
      ]
    },
    {
      "cell_type": "code",
      "metadata": {
        "id": "TuGGlKB8p8dT",
        "colab_type": "code",
        "colab": {
          "base_uri": "https://localhost:8080/",
          "height": 139
        },
        "outputId": "9acaf7a3-df67-4565-bd06-eb14bd6f6db2"
      },
      "source": [
        "from sklearn.ensemble import RandomForestRegressor\n",
        "rfr = RandomForestRegressor(max_depth=2, random_state=0)\n",
        "cv_results_rf = cross_validate(rfr, x, y, cv=3)"
      ],
      "execution_count": 196,
      "outputs": [
        {
          "output_type": "stream",
          "text": [
            "/usr/local/lib/python3.6/dist-packages/sklearn/ensemble/forest.py:245: FutureWarning: The default value of n_estimators will change from 10 in version 0.20 to 100 in 0.22.\n",
            "  \"10 in version 0.20 to 100 in 0.22.\", FutureWarning)\n",
            "/usr/local/lib/python3.6/dist-packages/sklearn/ensemble/forest.py:245: FutureWarning: The default value of n_estimators will change from 10 in version 0.20 to 100 in 0.22.\n",
            "  \"10 in version 0.20 to 100 in 0.22.\", FutureWarning)\n",
            "/usr/local/lib/python3.6/dist-packages/sklearn/ensemble/forest.py:245: FutureWarning: The default value of n_estimators will change from 10 in version 0.20 to 100 in 0.22.\n",
            "  \"10 in version 0.20 to 100 in 0.22.\", FutureWarning)\n"
          ],
          "name": "stderr"
        }
      ]
    },
    {
      "cell_type": "code",
      "metadata": {
        "id": "Fb2FcAPhqTpo",
        "colab_type": "code",
        "colab": {
          "base_uri": "https://localhost:8080/",
          "height": 34
        },
        "outputId": "112dad33-2909-471e-a00d-e0894900b8d8"
      },
      "source": [
        "cv_results_rf[\"test_score\"]"
      ],
      "execution_count": 198,
      "outputs": [
        {
          "output_type": "execute_result",
          "data": {
            "text/plain": [
              "array([0.06467588, 0.06712717, 0.05990769])"
            ]
          },
          "metadata": {
            "tags": []
          },
          "execution_count": 198
        }
      ]
    },
    {
      "cell_type": "code",
      "metadata": {
        "id": "KbHRDVYJqgg-",
        "colab_type": "code",
        "colab": {
          "base_uri": "https://localhost:8080/",
          "height": 282
        },
        "outputId": "5b520c3e-18cd-47fa-86b9-7085afbf8f02"
      },
      "source": [
        "y[y<min_thresh].hist()"
      ],
      "execution_count": 209,
      "outputs": [
        {
          "output_type": "execute_result",
          "data": {
            "text/plain": [
              "<matplotlib.axes._subplots.AxesSubplot at 0x7efd64923668>"
            ]
          },
          "metadata": {
            "tags": []
          },
          "execution_count": 209
        },
        {
          "output_type": "display_data",
          "data": {
            "image/png": "[encoded data removed]",
            "text/plain": [
              "<Figure size 432x288 with 1 Axes>"
            ]
          },
          "metadata": {
            "tags": []
          }
        }
      ]
    },
    {
      "cell_type": "code",
      "metadata": {
        "id": "MFdPsoUjqV5_",
        "colab_type": "code",
        "colab": {}
      },
      "source": [
        "#Novice < min_thresh; Master > max_thresh; Amateur otherwise\n",
        "min_thresh = y.mean()-1*y.std()\n",
        "max_thresh = y.mean()+1*y.std()\n",
        "maps = df[\"AverageElo\"].apply(lambda x: )"
      ],
      "execution_count": 0,
      "outputs": []
    },
    {
      "cell_type": "code",
      "metadata": {
        "id": "0NvkrGkduCLZ",
        "colab_type": "code",
        "colab": {}
      },
      "source": [
        "conditions = [\n",
        "    (df['AverageElo'] < min_thresh),\n",
        "    (df['AverageElo'] > min_thresh) & (df['AverageElo'] < max_thresh),\n",
        "    (df['AverageElo'] > max_thresh)]\n",
        "choices = ['1', '2', '3']"
      ],
      "execution_count": 0,
      "outputs": []
    },
    {
      "cell_type": "code",
      "metadata": {
        "id": "UvQNUYVuq729",
        "colab_type": "code",
        "colab": {}
      },
      "source": [
        "import numpy as np\n",
        "ranking = np.select(conditions, choices, default='1')"
      ],
      "execution_count": 0,
      "outputs": []
    },
    {
      "cell_type": "code",
      "metadata": {
        "id": "QqMcsr6AusKs",
        "colab_type": "code",
        "colab": {}
      },
      "source": [
        "df[\"Ranking\"] = ranking"
      ],
      "execution_count": 0,
      "outputs": []
    },
    {
      "cell_type": "code",
      "metadata": {
        "id": "FHKrnnjbsH0l",
        "colab_type": "code",
        "colab": {}
      },
      "source": [
        "df = df.drop(['Amateur', 'Novice', 'Master'], axis=1)"
      ],
      "execution_count": 0,
      "outputs": []
    },
    {
      "cell_type": "code",
      "metadata": {
        "id": "MBDkaWoPuyVV",
        "colab_type": "code",
        "colab": {
          "base_uri": "https://localhost:8080/",
          "height": 479
        },
        "outputId": "2a7b497b-1749-41a0-99fa-12bbbd5462b0"
      },
      "source": [
        "df.head()"
      ],
      "execution_count": 237,
      "outputs": [
        {
          "output_type": "execute_result",
          "data": {
            "text/html": [
              "<div>\n",
              "<style scoped>\n",
              "    .dataframe tbody tr th:only-of-type {\n",
              "        vertical-align: middle;\n",
              "    }\n",
              "\n",
              "    .dataframe tbody tr th {\n",
              "        vertical-align: top;\n",
              "    }\n",
              "\n",
              "    .dataframe thead th {\n",
              "        text-align: right;\n",
              "    }\n",
              "</style>\n",
              "<table border=\"1\" class=\"dataframe\">\n",
              "  <thead>\n",
              "    <tr style=\"text-align: right;\">\n",
              "      <th></th>\n",
              "      <th>Opening</th>\n",
              "      <th>Total White Score</th>\n",
              "      <th>Total Black Score</th>\n",
              "      <th>No. White Moves</th>\n",
              "      <th>No. Black Moves</th>\n",
              "      <th>White Avg. Score</th>\n",
              "      <th>Black Avg. Score</th>\n",
              "      <th>AverageElo</th>\n",
              "      <th>Rated Blitz game</th>\n",
              "      <th>Rated Bullet game</th>\n",
              "      <th>Rated Classical game</th>\n",
              "      <th>Rated Correspondence game</th>\n",
              "      <th>Rated Rapid game</th>\n",
              "      <th>Rated UltraBullet game</th>\n",
              "      <th>BlackWin</th>\n",
              "      <th>Draw</th>\n",
              "      <th>Ranking</th>\n",
              "    </tr>\n",
              "  </thead>\n",
              "  <tbody>\n",
              "    <tr>\n",
              "      <th>0</th>\n",
              "      <td>Scandinavian Defense</td>\n",
              "      <td>-5112</td>\n",
              "      <td>6476</td>\n",
              "      <td>15</td>\n",
              "      <td>15</td>\n",
              "      <td>-340.80</td>\n",
              "      <td>431.73</td>\n",
              "      <td>1404.0</td>\n",
              "      <td>0</td>\n",
              "      <td>1</td>\n",
              "      <td>0</td>\n",
              "      <td>0</td>\n",
              "      <td>0</td>\n",
              "      <td>0</td>\n",
              "      <td>1</td>\n",
              "      <td>0</td>\n",
              "      <td>2</td>\n",
              "    </tr>\n",
              "    <tr>\n",
              "      <th>1</th>\n",
              "      <td>Torre Attack #2</td>\n",
              "      <td>22197</td>\n",
              "      <td>-22367</td>\n",
              "      <td>33</td>\n",
              "      <td>34</td>\n",
              "      <td>672.64</td>\n",
              "      <td>-657.85</td>\n",
              "      <td>1995.0</td>\n",
              "      <td>0</td>\n",
              "      <td>1</td>\n",
              "      <td>0</td>\n",
              "      <td>0</td>\n",
              "      <td>0</td>\n",
              "      <td>0</td>\n",
              "      <td>0</td>\n",
              "      <td>0</td>\n",
              "      <td>3</td>\n",
              "    </tr>\n",
              "    <tr>\n",
              "      <th>2</th>\n",
              "      <td>English Opening: King's English Variation, Thr...</td>\n",
              "      <td>2244</td>\n",
              "      <td>-1124</td>\n",
              "      <td>18</td>\n",
              "      <td>19</td>\n",
              "      <td>124.67</td>\n",
              "      <td>-59.16</td>\n",
              "      <td>2114.0</td>\n",
              "      <td>0</td>\n",
              "      <td>1</td>\n",
              "      <td>0</td>\n",
              "      <td>0</td>\n",
              "      <td>0</td>\n",
              "      <td>0</td>\n",
              "      <td>0</td>\n",
              "      <td>0</td>\n",
              "      <td>3</td>\n",
              "    </tr>\n",
              "    <tr>\n",
              "      <th>3</th>\n",
              "      <td>English Opening: Anglo-Indian Defense</td>\n",
              "      <td>12049</td>\n",
              "      <td>-12040</td>\n",
              "      <td>25</td>\n",
              "      <td>26</td>\n",
              "      <td>481.96</td>\n",
              "      <td>-463.08</td>\n",
              "      <td>2069.0</td>\n",
              "      <td>0</td>\n",
              "      <td>1</td>\n",
              "      <td>0</td>\n",
              "      <td>0</td>\n",
              "      <td>0</td>\n",
              "      <td>0</td>\n",
              "      <td>0</td>\n",
              "      <td>0</td>\n",
              "      <td>3</td>\n",
              "    </tr>\n",
              "    <tr>\n",
              "      <th>4</th>\n",
              "      <td>Sicilian Defense: French Variation</td>\n",
              "      <td>-2945</td>\n",
              "      <td>4591</td>\n",
              "      <td>23</td>\n",
              "      <td>23</td>\n",
              "      <td>-128.04</td>\n",
              "      <td>199.61</td>\n",
              "      <td>1636.5</td>\n",
              "      <td>0</td>\n",
              "      <td>1</td>\n",
              "      <td>0</td>\n",
              "      <td>0</td>\n",
              "      <td>0</td>\n",
              "      <td>0</td>\n",
              "      <td>1</td>\n",
              "      <td>0</td>\n",
              "      <td>2</td>\n",
              "    </tr>\n",
              "  </tbody>\n",
              "</table>\n",
              "</div>"
            ],
            "text/plain": [
              "                                             Opening  ...  Ranking\n",
              "0                               Scandinavian Defense  ...        2\n",
              "1                                    Torre Attack #2  ...        3\n",
              "2  English Opening: King's English Variation, Thr...  ...        3\n",
              "3              English Opening: Anglo-Indian Defense  ...        3\n",
              "4                 Sicilian Defense: French Variation  ...        2\n",
              "\n",
              "[5 rows x 17 columns]"
            ]
          },
          "metadata": {
            "tags": []
          },
          "execution_count": 237
        }
      ]
    },
    {
      "cell_type": "code",
      "metadata": {
        "id": "-rjQAVFRvKUu",
        "colab_type": "code",
        "colab": {}
      },
      "source": [
        "X = df.drop(['Opening', 'AverageElo', 'Ranking'], axis=1)"
      ],
      "execution_count": 0,
      "outputs": []
    },
    {
      "cell_type": "code",
      "metadata": {
        "id": "_4DBtUh2vTaf",
        "colab_type": "code",
        "colab": {}
      },
      "source": [
        "y = df['Ranking']"
      ],
      "execution_count": 0,
      "outputs": []
    },
    {
      "cell_type": "code",
      "metadata": {
        "id": "yZmtkiR4v6VU",
        "colab_type": "code",
        "colab": {
          "base_uri": "https://localhost:8080/",
          "height": 119
        },
        "outputId": "062114d5-41ad-4cc1-8dcc-2ad386c0d00d"
      },
      "source": [
        "y.head()"
      ],
      "execution_count": 241,
      "outputs": [
        {
          "output_type": "execute_result",
          "data": {
            "text/plain": [
              "0    2\n",
              "1    3\n",
              "2    3\n",
              "3    3\n",
              "4    2\n",
              "Name: Ranking, dtype: object"
            ]
          },
          "metadata": {
            "tags": []
          },
          "execution_count": 241
        }
      ]
    },
    {
      "cell_type": "code",
      "metadata": {
        "id": "Ty_5P_CLv7cD",
        "colab_type": "code",
        "colab": {
          "base_uri": "https://localhost:8080/",
          "height": 139
        },
        "outputId": "f0f54d99-8514-46aa-bb3f-90ff22420cf6"
      },
      "source": [
        "from sklearn.ensemble import RandomForestClassifier\n",
        "clf = RandomForestClassifier(max_depth=6, random_state=0)\n",
        "cv_rf_Score = cross_validate(clf, X, y, cv=3)"
      ],
      "execution_count": 242,
      "outputs": [
        {
          "output_type": "stream",
          "text": [
            "/usr/local/lib/python3.6/dist-packages/sklearn/ensemble/forest.py:245: FutureWarning: The default value of n_estimators will change from 10 in version 0.20 to 100 in 0.22.\n",
            "  \"10 in version 0.20 to 100 in 0.22.\", FutureWarning)\n",
            "/usr/local/lib/python3.6/dist-packages/sklearn/ensemble/forest.py:245: FutureWarning: The default value of n_estimators will change from 10 in version 0.20 to 100 in 0.22.\n",
            "  \"10 in version 0.20 to 100 in 0.22.\", FutureWarning)\n",
            "/usr/local/lib/python3.6/dist-packages/sklearn/ensemble/forest.py:245: FutureWarning: The default value of n_estimators will change from 10 in version 0.20 to 100 in 0.22.\n",
            "  \"10 in version 0.20 to 100 in 0.22.\", FutureWarning)\n"
          ],
          "name": "stderr"
        }
      ]
    },
    {
      "cell_type": "code",
      "metadata": {
        "id": "lybX5tkEwbUu",
        "colab_type": "code",
        "colab": {
          "base_uri": "https://localhost:8080/",
          "height": 68
        },
        "outputId": "55df050d-664f-4ee5-ceac-63e2d2609045"
      },
      "source": [
        "cv_rf_Score"
      ],
      "execution_count": 243,
      "outputs": [
        {
          "output_type": "execute_result",
          "data": {
            "text/plain": [
              "{'fit_time': array([0.79020786, 0.77973914, 0.74517179]),\n",
              " 'score_time': array([0.07835531, 0.0772438 , 0.07939863]),\n",
              " 'test_score': array([0.66136156, 0.66144591, 0.66120884])}"
            ]
          },
          "metadata": {
            "tags": []
          },
          "execution_count": 243
        }
      ]
    },
    {
      "cell_type": "code",
      "metadata": {
        "id": "CRlSzy6Lwdid",
        "colab_type": "code",
        "colab": {}
      },
      "source": [
        ""
      ],
      "execution_count": 0,
      "outputs": []
    }
  ]
}